{
 "cells": [
  {
   "cell_type": "markdown",
   "metadata": {},
   "source": [
    "2.1"
   ]
  },
  {
   "cell_type": "code",
   "execution_count": 1,
   "metadata": {},
   "outputs": [],
   "source": [
    "import os\n",
    "import numpy as np\n",
    "from PIL import Image\n",
    "\n",
    "import torch\n",
    "from torch.utils.data import Dataset, DataLoader\n",
    "import torchvision.transforms as transforms\n",
    "import os\n",
    "import numpy as np\n",
    "from PIL import Image\n",
    "\n",
    "import torch\n",
    "import torch.nn as nn\n",
    "import torch.nn.functional as F\n",
    "import torch.optim as optim\n",
    "\n",
    "import torchvision.transforms as transforms\n",
    "from torch.utils.data import Dataset, DataLoader\n",
    "\n",
    "# Define transformations\n",
    "transform = transforms.Compose([\n",
    "    transforms.Resize((64, 64)),\n",
    "    transforms.ToTensor(),\n",
    "    transforms.Normalize((0.5,), (0.5,))\n",
    "])"
   ]
  },
  {
   "cell_type": "code",
   "execution_count": 2,
   "metadata": {},
   "outputs": [
    {
     "name": "stdout",
     "output_type": "stream",
     "text": [
      "Number of Batches Train loader: 394\n",
      "Number of Batches Validation loader: 94\n",
      "Number of Batches Test loader: 144\n"
     ]
    }
   ],
   "source": [
    "class MultiMNISTDataset(Dataset):\n",
    "    def __init__(self, data_dir, transform=None):\n",
    "        self.images, self.labels = self.load_mnist_data(data_dir, transform)\n",
    "\n",
    "\n",
    "\n",
    "    @staticmethod\n",
    "    def load_mnist_data(data_dir, transform=None):\n",
    "        labels = []\n",
    "        images = []\n",
    "        for label_str in os.listdir(data_dir):\n",
    "            folder_path = os.path.join(data_dir, label_str)\n",
    "            label = len(label_str) if label_str != '0' else 0\n",
    "            for image_file in os.listdir(folder_path):\n",
    "                image_path = os.path.join(folder_path, image_file)\n",
    "                image = Image.open(image_path).convert('L')\n",
    "                if transform:\n",
    "                    image = transform(image)\n",
    "                labels.append(label)\n",
    "                images.append(image)\n",
    "        return torch.stack(images), torch.tensor(labels)\n",
    "\n",
    "    @staticmethod\n",
    "    def get_dataloader(data_dir, batch_size=32, shuffle=True, transform=None):\n",
    "        dataset = MultiMNISTDataset(data_dir, transform)\n",
    "        return DataLoader(dataset, batch_size=batch_size, shuffle=shuffle)\n",
    "\n",
    "    @staticmethod\n",
    "    def get_dimensions(loader):\n",
    "        input_channels, input_size = None, None\n",
    "        all_labels = {}\n",
    "        for image, label in loader:\n",
    "            if input_size == None:\n",
    "                input_size=(image.shape[2], image.shape[3])\n",
    "                input_channels = image.shape[1]\n",
    "            for value in label:\n",
    "                value = value.item()\n",
    "                if value in all_labels:\n",
    "                    all_labels[value] += 1\n",
    "                else:\n",
    "                    all_labels[value] = 1\n",
    "\n",
    "        uniques = all_labels.__len__()\n",
    "        return input_channels, input_size, uniques\n",
    "    \n",
    "    def __len__(self):\n",
    "        return len(self.images)\n",
    "\n",
    "    def __getitem__(self, index):\n",
    "        return self.images[index], self.labels[index]\n",
    "    \n",
    "    \n",
    "test_loader = MultiMNISTDataset.get_dataloader('./double_mnist/test', batch_size=32, shuffle=True,transform=transform)\n",
    "val_loader = MultiMNISTDataset.get_dataloader('./double_mnist/val', batch_size=32, shuffle=True,transform=transform)\n",
    "train_loader = MultiMNISTDataset.get_dataloader('./double_mnist/train', batch_size=32, shuffle=True, transform=transform)\n",
    "\n",
    "print(\"Number of Batches Train loader:\", len(train_loader))\n",
    "print(\"Number of Batches Validation loader:\", len(val_loader))\n",
    "print(\"Number of Batches Test loader:\", len(test_loader))"
   ]
  },
  {
   "cell_type": "markdown",
   "metadata": {},
   "source": [
    "2.2"
   ]
  },
  {
   "cell_type": "markdown",
   "metadata": {},
   "source": []
  },
  {
   "cell_type": "code",
   "execution_count": 3,
   "metadata": {},
   "outputs": [],
   "source": [
    "class CNN(nn.Module):\n",
    "    def __init__(self, layer_config=[], input_channels=1, input_size=(128,128), num_classes=10, task='classification'):\n",
    "        super().__init__()\n",
    "        \n",
    "        \n",
    "        self.task = task\n",
    "        self.activations = []          \n",
    "        self.layers = nn.ModuleList()  \n",
    "        \n",
    "        current_size = input_size\n",
    "        layer_in = input_channels\n",
    "\n",
    "        for config in layer_config:\n",
    "            if config['type'] == 'pool':\n",
    "                if config['pool_type'] == 'max':\n",
    "                    self.layers.append(nn.MaxPool2d(kernel_size=config['kernel_size'], stride=2))\n",
    "                elif config['pool_type'] == 'avg':\n",
    "                    self.layers.append(nn.AvgPool2d(kernel_size=config['kernel_size'], stride=2))\n",
    "                else:\n",
    "                    raise ValueError('Invalid pool type')\n",
    "\n",
    "                current_size = self.calculate_pool_output_size(current_size, config['kernel_size'], stride=2)\n",
    "            elif config['type'] == 'conv2d':\n",
    "                layer_out = config['out_channels']\n",
    "                self.layers.append(nn.Conv2d(layer_in, layer_out, kernel_size=config['kernel_size'], stride=config['stride'], padding=config['padding']))\n",
    "                self.activations.append(self.get_activation(config['activation']))\n",
    "\n",
    "                current_size = self.calculate_conv_output_size(current_size, config['kernel_size'], config['stride'], config['padding'])\n",
    "                layer_in = layer_out  \n",
    "\n",
    "            \n",
    "\n",
    "\n",
    "        flattened_size = layer_in * current_size[0] * current_size[1]\n",
    "        self.fc1 = nn.Linear(flattened_size, 256)  \n",
    "        self.fc2 = nn.Linear(256, num_classes)\n",
    "\n",
    "    def get_activation(self, activation):\n",
    "        if activation == 'sigmoid':\n",
    "            return nn.Sigmoid()\n",
    "        if activation == 'relu':\n",
    "            return nn.ReLU()\n",
    "        if activation == 'tanh':\n",
    "            return nn.Tanh()\n",
    "        else:\n",
    "            raise ValueError('Invalid activation function')\n",
    "\n",
    "    def calculate_conv_output_size(self, input_size, kernel_size, stride, padding):\n",
    "        h_in, w_in = input_size\n",
    "        w_out = ((w_in - kernel_size + 2 * padding) // stride) + 1\n",
    "        h_out = ((h_in - kernel_size + 2 * padding) // stride) + 1\n",
    "        return (h_out, w_out)\n",
    "\n",
    "    def calculate_pool_output_size(self, input_size, kernel_size, stride):\n",
    "        h_in, w_in = input_size\n",
    "        w_out = ((w_in - kernel_size) // stride) + 1\n",
    "        h_out = ((h_in - kernel_size) // stride) + 1\n",
    "        return (h_out, w_out)\n",
    "\n",
    "    def forward(self, x):\n",
    "        # for i, layer in enumerate(self.layers):\n",
    "        #     x = layer(x)\n",
    "        #     if i < len(self.activations):\n",
    "        #         x = self.activations[i](x)\n",
    "\n",
    "        for layer, activation in zip(self.layers, self.activations + [None] * (len(self.layers) - len(self.activations))):\n",
    "          x = layer(x)\n",
    "          if activation:\n",
    "            x = activation(x)\n",
    "\n",
    "\n",
    "        x = torch.flatten(x, 1)\n",
    "\n",
    "        x = F.relu(self.fc1(x))\n",
    "        x = self.fc2(x)\n",
    "\n",
    "        return x\n",
    "    \n",
    "    def train_model(self, train_loader, val_loader, optimizer, loss_function, epochs=5):\n",
    "     for epoch in range(1, epochs + 1):\n",
    "        self.train()\n",
    "        total_loss = 0.0\n",
    "        print(f\"Epoch {epoch}/{epochs}:\")\n",
    "\n",
    "        for inputs, labels in train_loader:\n",
    "            optimizer.zero_grad()\n",
    "            outputs = self(inputs)\n",
    "\n",
    "            labels = labels.float().view(-1, 1) if self.task == 'regression' else labels\n",
    "            loss = loss_function(outputs, labels)\n",
    "            loss.backward()\n",
    "            optimizer.step()\n",
    "            total_loss += loss.item()\n",
    "\n",
    "        self.eval()\n",
    "        correct_predictions = 0\n",
    "        total_samples = 0\n",
    "        with torch.no_grad():\n",
    "            for inputs, labels in val_loader:\n",
    "                outputs = self(inputs)\n",
    "                predictions = torch.round(outputs) if self.task == 'regression' else torch.max(outputs, 1)[1]\n",
    "                labels = labels.float().view(-1, 1) if self.task == 'regression' else labels\n",
    "\n",
    "                total_samples += labels.size(0)\n",
    "                correct_predictions += (predictions == labels).sum().item()\n",
    "\n",
    "        val_accuracy = 100 * correct_predictions / total_samples\n",
    "        print(f\"Training Loss: {total_loss / len(train_loader):.4f}, Validation Accuracy: {val_accuracy:.2f}%\")\n",
    "\n",
    "\n",
    "    def test_model(self, test_loader):\n",
    "     correct_predictions = 0\n",
    "     total_samples = 0\n",
    "     self.eval()\n",
    "\n",
    "     with torch.no_grad():\n",
    "        for inputs, labels in test_loader:\n",
    "            outputs = self(inputs)\n",
    "\n",
    "            if self.task == 'regression':\n",
    "                predictions = torch.round(outputs)\n",
    "                labels = labels.float().view(-1, 1)\n",
    "            else:\n",
    "                predictions = torch.argmax(outputs, dim=1)\n",
    "                \n",
    "            total_samples += labels.size(0)\n",
    "            correct_predictions += (predictions == labels).sum().item()\n",
    "\n",
    "     accuracy = (correct_predictions / total_samples) * 100\n",
    "     print(f\"Test Accuracy: {accuracy:.2f}%\")\n",
    "\n",
    "\n",
    "\n",
    "    def load(self, from_path='./best.pth'):\n",
    "        self.load_state_dict(torch.load(from_path))\n",
    "        print(f\"Model Loaded Successfully from {from_path}\")\n",
    "\n",
    "    def save(self, to_path='./best.pth'):\n",
    "        torch.save(self.state_dict(), to_path)\n",
    "        print(f\"Model Saved Successfully to {to_path}\")\n",
    "        \n",
    "    "
   ]
  },
  {
   "cell_type": "code",
   "execution_count": 4,
   "metadata": {},
   "outputs": [],
   "source": [
    "layer_config = [\n",
    "    {'type': 'conv2d', 'out_channels': 32, 'kernel_size': 3, 'stride': 1, 'padding': 1, 'activation': 'relu'},\n",
    "    {'type': 'pool', 'kernel_size': 2, 'pool_type': 'max'},\n",
    "    {'type': 'conv2d', 'out_channels': 64, 'kernel_size': 3, 'stride': 1, 'padding': 1, 'activation': 'relu'},\n",
    "    {'type': 'pool', 'kernel_size': 2, 'pool_type': 'max'},\n",
    "    {'type': 'conv2d', 'out_channels': 128, 'kernel_size': 3, 'stride': 1, 'padding': 1, 'activation': 'relu'},\n",
    "    {'type': 'pool', 'kernel_size': 2, 'pool_type': 'max'},\n",
    "]\n",
    "\n",
    "input_channels, input_size, num_classes = MultiMNISTDataset.get_dimensions(train_loader)\n",
    "\n",
    "\n",
    "model = CNN(layer_config=layer_config, input_channels=input_channels, input_size=input_size, num_classes=1, task='regression')"
   ]
  },
  {
   "cell_type": "code",
   "execution_count": 5,
   "metadata": {},
   "outputs": [
    {
     "name": "stdout",
     "output_type": "stream",
     "text": [
      "Epoch 1/5:\n",
      "Training Loss: 0.3507, Validation Accuracy: 94.90%\n",
      "Epoch 2/5:\n",
      "Training Loss: 0.0602, Validation Accuracy: 98.67%\n",
      "Epoch 3/5:\n",
      "Training Loss: 0.0398, Validation Accuracy: 99.33%\n",
      "Epoch 4/5:\n",
      "Training Loss: 0.0304, Validation Accuracy: 99.73%\n",
      "Epoch 5/5:\n",
      "Training Loss: 0.0224, Validation Accuracy: 99.90%\n"
     ]
    }
   ],
   "source": [
    "loss_function = nn.MSELoss()\n",
    "\n",
    "optimizer = optim.SGD(model.parameters(), lr=0.001, momentum=0.9)\n",
    "\n",
    "\n",
    "\n",
    "\n",
    "model.train_model(train_loader, val_loader, optimizer, loss_function, epochs=5)"
   ]
  },
  {
   "cell_type": "code",
   "execution_count": 6,
   "metadata": {},
   "outputs": [
    {
     "name": "stdout",
     "output_type": "stream",
     "text": [
      "Model Saved Successfully to first_reg.pth\n",
      "Model Loaded Successfully from first_reg.pth\n"
     ]
    },
    {
     "name": "stderr",
     "output_type": "stream",
     "text": [
      "C:\\Users\\devan\\AppData\\Local\\Temp\\ipykernel_28556\\2537199833.py:135: FutureWarning: You are using `torch.load` with `weights_only=False` (the current default value), which uses the default pickle module implicitly. It is possible to construct malicious pickle data which will execute arbitrary code during unpickling (See https://github.com/pytorch/pytorch/blob/main/SECURITY.md#untrusted-models for more details). In a future release, the default value for `weights_only` will be flipped to `True`. This limits the functions that could be executed during unpickling. Arbitrary objects will no longer be allowed to be loaded via this mode unless they are explicitly allowlisted by the user via `torch.serialization.add_safe_globals`. We recommend you start setting `weights_only=True` for any use case where you don't have full control of the loaded file. Please open an issue on GitHub for any issues related to this experimental feature.\n",
      "  self.load_state_dict(torch.load(from_path))\n"
     ]
    },
    {
     "name": "stdout",
     "output_type": "stream",
     "text": [
      "Test Accuracy: 99.93%\n"
     ]
    }
   ],
   "source": [
    "\n",
    "\n",
    "model.save('first_reg.pth')\n",
    "\n",
    "net = CNN(layer_config=layer_config, input_channels=input_channels, input_size=input_size, num_classes=1, task='regression')\n",
    "net.load('first_reg.pth')\n",
    "\n",
    "net.test_model(test_loader)"
   ]
  },
  {
   "cell_type": "markdown",
   "metadata": {},
   "source": [
    "# whole code"
   ]
  },
  {
   "cell_type": "code",
   "execution_count": null,
   "metadata": {},
   "outputs": [],
   "source": [
    "# import os\n",
    "# import numpy as np\n",
    "# from PIL import Image\n",
    "\n",
    "# import torch\n",
    "# from torch.utils.data import Dataset, DataLoader\n",
    "# import torchvision.transforms as transforms\n",
    "# import os\n",
    "# import numpy as np\n",
    "# from PIL import Image\n",
    "\n",
    "# import torch\n",
    "# import torch.nn as nn\n",
    "# import torch.nn.functional as F\n",
    "# import torch.optim as optim\n",
    "\n",
    "# import torchvision.transforms as transforms\n",
    "# from torch.utils.data import Dataset, DataLoader\n",
    "\n",
    "# # Define transformations\n",
    "# transform = transforms.Compose([\n",
    "#     transforms.Resize((64, 64)),\n",
    "#     transforms.ToTensor(),\n",
    "#     transforms.Normalize((0.5,), (0.5,))\n",
    "# ])\n",
    "\n",
    "\n",
    "# class MultiMNISTDataset(Dataset):\n",
    "#     def __init__(self, data_dir, transform=None):\n",
    "#         self.images, self.labels = self.load_mnist_data(data_dir, transform)\n",
    "\n",
    "\n",
    "\n",
    "#     @staticmethod\n",
    "#     def load_mnist_data(data_dir, transform=None):\n",
    "#         labels = []\n",
    "#         images = []\n",
    "#         for label_str in os.listdir(data_dir):\n",
    "#             folder_path = os.path.join(data_dir, label_str)\n",
    "#             label = len(label_str) if label_str != '0' else 0\n",
    "#             for image_file in os.listdir(folder_path):\n",
    "#                 image_path = os.path.join(folder_path, image_file)\n",
    "#                 image = Image.open(image_path).convert('L')\n",
    "#                 if transform:\n",
    "#                     image = transform(image)\n",
    "#                 labels.append(label)\n",
    "#                 images.append(image)\n",
    "#         return torch.stack(images), torch.tensor(labels)\n",
    "\n",
    "#     @staticmethod\n",
    "#     def get_dataloader(data_dir, batch_size=32, shuffle=True, transform=None):\n",
    "#         dataset = MultiMNISTDataset(data_dir, transform)\n",
    "#         return DataLoader(dataset, batch_size=batch_size, shuffle=shuffle)\n",
    "\n",
    "#     @staticmethod\n",
    "#     def get_dimensions(loader):\n",
    "#         input_channels, input_size = None, None\n",
    "#         all_labels = {}\n",
    "#         for image, label in loader:\n",
    "#             if input_size == None:\n",
    "#                 input_size=(image.shape[2], image.shape[3])\n",
    "#                 input_channels = image.shape[1]\n",
    "#             for value in label:\n",
    "#                 value = value.item()\n",
    "#                 if value in all_labels:\n",
    "#                     all_labels[value] += 1\n",
    "#                 else:\n",
    "#                     all_labels[value] = 1\n",
    "\n",
    "#         uniques = all_labels.__len__()\n",
    "#         return input_channels, input_size, uniques\n",
    "    \n",
    "#     def __len__(self):\n",
    "#         return len(self.images)\n",
    "\n",
    "#     def __getitem__(self, index):\n",
    "#         return self.images[index], self.labels[index]\n",
    "    \n",
    "    \n",
    "# test_loader = MultiMNISTDataset.get_dataloader('./double_mnist/test', batch_size=32, shuffle=True,transform=transform)\n",
    "# val_loader = MultiMNISTDataset.get_dataloader('./double_mnist/val', batch_size=32, shuffle=True,transform=transform)\n",
    "# train_loader = MultiMNISTDataset.get_dataloader('./double_mnist/train', batch_size=32, shuffle=True, transform=transform)\n",
    "\n",
    "# print(\"Number of Batches Train loader:\", len(train_loader))\n",
    "# print(\"Number of Batches Validation loader:\", len(val_loader))\n",
    "# print(\"Number of Batches Test loader:\", len(test_loader))\n",
    "\n",
    "\n",
    "# class CNN(nn.Module):\n",
    "#     def __init__(self, layer_config=[], input_channels=1, input_size=(128,128), num_classes=10, task='classification'):\n",
    "#         super().__init__()\n",
    "        \n",
    "        \n",
    "#         self.task = task\n",
    "#         self.activations = []          \n",
    "#         self.layers = nn.ModuleList()  \n",
    "        \n",
    "#         current_size = input_size\n",
    "#         layer_in = input_channels\n",
    "\n",
    "#         for config in layer_config:\n",
    "#             if config['type'] == 'pool':\n",
    "#                 if config['pool_type'] == 'max':\n",
    "#                     self.layers.append(nn.MaxPool2d(kernel_size=config['kernel_size'], stride=2))\n",
    "#                 elif config['pool_type'] == 'avg':\n",
    "#                     self.layers.append(nn.AvgPool2d(kernel_size=config['kernel_size'], stride=2))\n",
    "#                 else:\n",
    "#                     raise ValueError('Invalid pool type')\n",
    "\n",
    "#                 current_size = self.calculate_pool_output_size(current_size, config['kernel_size'], stride=2)\n",
    "#             elif config['type'] == 'conv2d':\n",
    "#                 layer_out = config['out_channels']\n",
    "#                 self.layers.append(nn.Conv2d(layer_in, layer_out, kernel_size=config['kernel_size'], stride=config['stride'], padding=config['padding']))\n",
    "#                 self.activations.append(self.get_activation(config['activation']))\n",
    "\n",
    "#                 current_size = self.calculate_conv_output_size(current_size, config['kernel_size'], config['stride'], config['padding'])\n",
    "#                 layer_in = layer_out  \n",
    "\n",
    "            \n",
    "\n",
    "\n",
    "#         flattened_size = layer_in * current_size[0] * current_size[1]\n",
    "#         self.fc1 = nn.Linear(flattened_size, 256)  \n",
    "#         self.fc2 = nn.Linear(256, num_classes)\n",
    "\n",
    "#     def get_activation(self, activation):\n",
    "#         if activation == 'sigmoid':\n",
    "#             return nn.Sigmoid()\n",
    "#         if activation == 'relu':\n",
    "#             return nn.ReLU()\n",
    "#         if activation == 'tanh':\n",
    "#             return nn.Tanh()\n",
    "#         else:\n",
    "#             raise ValueError('Invalid activation function')\n",
    "\n",
    "#     def calculate_conv_output_size(self, input_size, kernel_size, stride, padding):\n",
    "#         h_in, w_in = input_size\n",
    "#         w_out = ((w_in - kernel_size + 2 * padding) // stride) + 1\n",
    "#         h_out = ((h_in - kernel_size + 2 * padding) // stride) + 1\n",
    "#         return (h_out, w_out)\n",
    "\n",
    "#     def calculate_pool_output_size(self, input_size, kernel_size, stride):\n",
    "#         h_in, w_in = input_size\n",
    "#         w_out = ((w_in - kernel_size) // stride) + 1\n",
    "#         h_out = ((h_in - kernel_size) // stride) + 1\n",
    "#         return (h_out, w_out)\n",
    "\n",
    "#     def forward(self, x):\n",
    "#         # for i, layer in enumerate(self.layers):\n",
    "#         #     x = layer(x)\n",
    "#         #     if i < len(self.activations):\n",
    "#         #         x = self.activations[i](x)\n",
    "\n",
    "#         for layer, activation in zip(self.layers, self.activations + [None] * (len(self.layers) - len(self.activations))):\n",
    "#           x = layer(x)\n",
    "#           if activation:\n",
    "#             x = activation(x)\n",
    "\n",
    "\n",
    "#         x = torch.flatten(x, 1)\n",
    "\n",
    "#         x = F.relu(self.fc1(x))\n",
    "#         x = self.fc2(x)\n",
    "\n",
    "#         return x\n",
    "    \n",
    "#     def train_model(self, train_loader, val_loader, optimizer, loss_function, epochs=5):\n",
    "#      for epoch in range(1, epochs + 1):\n",
    "#         self.train()\n",
    "#         total_loss = 0.0\n",
    "#         print(f\"Epoch {epoch}/{epochs}:\")\n",
    "\n",
    "#         for inputs, labels in train_loader:\n",
    "#             optimizer.zero_grad()\n",
    "#             outputs = self(inputs)\n",
    "\n",
    "#             labels = labels.float().view(-1, 1) if self.task == 'regression' else labels\n",
    "#             loss = loss_function(outputs, labels)\n",
    "#             loss.backward()\n",
    "#             optimizer.step()\n",
    "#             total_loss += loss.item()\n",
    "\n",
    "#         self.eval()\n",
    "#         correct_predictions = 0\n",
    "#         total_samples = 0\n",
    "#         with torch.no_grad():\n",
    "#             for inputs, labels in val_loader:\n",
    "#                 outputs = self(inputs)\n",
    "#                 predictions = torch.round(outputs) if self.task == 'regression' else torch.max(outputs, 1)[1]\n",
    "#                 labels = labels.float().view(-1, 1) if self.task == 'regression' else labels\n",
    "\n",
    "#                 total_samples += labels.size(0)\n",
    "#                 correct_predictions += (predictions == labels).sum().item()\n",
    "\n",
    "#         val_accuracy = 100 * correct_predictions / total_samples\n",
    "#         print(f\"Training Loss: {total_loss / len(train_loader):.4f}, Validation Accuracy: {val_accuracy:.2f}%\")\n",
    "\n",
    "\n",
    "#     def test_model(self, test_loader):\n",
    "#      correct_predictions = 0\n",
    "#      total_samples = 0\n",
    "#      self.eval()\n",
    "\n",
    "#      with torch.no_grad():\n",
    "#         for inputs, labels in test_loader:\n",
    "#             outputs = self(inputs)\n",
    "\n",
    "#             if self.task == 'regression':\n",
    "#                 predictions = torch.round(outputs)\n",
    "#                 labels = labels.float().view(-1, 1)\n",
    "#             else:\n",
    "#                 predictions = torch.argmax(outputs, dim=1)\n",
    "                \n",
    "#             total_samples += labels.size(0)\n",
    "#             correct_predictions += (predictions == labels).sum().item()\n",
    "\n",
    "#      accuracy = (correct_predictions / total_samples) * 100\n",
    "#      print(f\"Test Accuracy: {accuracy:.2f}%\")\n",
    "\n",
    "\n",
    "\n",
    "#     def load(self, from_path='./best.pth'):\n",
    "#         self.load_state_dict(torch.load(from_path))\n",
    "#         print(f\"Model Loaded Successfully from {from_path}\")\n",
    "\n",
    "#     def save(self, to_path='./best.pth'):\n",
    "#         torch.save(self.state_dict(), to_path)\n",
    "#         print(f\"Model Saved Successfully to {to_path}\")\n",
    "        \n",
    "    \n",
    "# layer_config = [\n",
    "#     {'type': 'conv2d', 'out_channels': 32, 'kernel_size': 3, 'stride': 1, 'padding': 1, 'activation': 'relu'},\n",
    "#     {'type': 'pool', 'kernel_size': 2, 'pool_type': 'max'},\n",
    "#     {'type': 'conv2d', 'out_channels': 64, 'kernel_size': 3, 'stride': 1, 'padding': 1, 'activation': 'relu'},\n",
    "#     {'type': 'pool', 'kernel_size': 2, 'pool_type': 'max'},\n",
    "#     {'type': 'conv2d', 'out_channels': 128, 'kernel_size': 3, 'stride': 1, 'padding': 1, 'activation': 'relu'},\n",
    "#     {'type': 'pool', 'kernel_size': 2, 'pool_type': 'max'},\n",
    "# ]\n",
    "\n",
    "# input_channels, input_size, num_classes = MultiMNISTDataset.get_dimensions(train_loader)\n",
    "\n",
    "\n",
    "# model = CNN(layer_config=layer_config, input_channels=input_channels, input_size=input_size, num_classes=1, task='regression')\n",
    "\n",
    "\n",
    "\n",
    "# loss_function = nn.MSELoss()\n",
    "\n",
    "# optimizer = optim.SGD(model.parameters(), lr=0.001, momentum=0.9)\n",
    "\n",
    "\n",
    "# model.train_model(train_loader, val_loader, optimizer, loss_function, epochs=5)\n",
    "\n",
    "# model.save('first_reg.pth')\n",
    "\n",
    "# net = CNN(layer_config=layer_config, input_channels=input_channels, input_size=input_size, num_classes=1, task='regression')\n",
    "# net.load('first_reg.pth')\n",
    "\n",
    "# net.test_model(test_loader)"
   ]
  },
  {
   "cell_type": "markdown",
   "metadata": {},
   "source": [
    "classification"
   ]
  },
  {
   "cell_type": "code",
   "execution_count": 8,
   "metadata": {},
   "outputs": [
    {
     "name": "stdout",
     "output_type": "stream",
     "text": [
      "Epoch 1/5:\n",
      "Training Loss: 1.1401, Validation Accuracy: 53.33%\n",
      "Epoch 2/5:\n",
      "Training Loss: 0.6145, Validation Accuracy: 90.83%\n",
      "Epoch 3/5:\n",
      "Training Loss: 0.1380, Validation Accuracy: 99.53%\n",
      "Epoch 4/5:\n",
      "Training Loss: 0.0396, Validation Accuracy: 99.87%\n",
      "Epoch 5/5:\n",
      "Training Loss: 0.0186, Validation Accuracy: 99.93%\n"
     ]
    }
   ],
   "source": [
    "import matplotlib.pyplot as plt\n",
    "\n",
    "def visualize_feature_maps(feature_maps, num_images=3, num_filters=6):\n",
    "    # Select a few feature maps to visualize\n",
    "    fig, axs = plt.subplots(num_images, len(feature_maps), figsize=(15, 15))\n",
    "\n",
    "    for img_idx in range(num_images):\n",
    "        for layer_idx, fmap in enumerate(feature_maps):\n",
    "            fmap_img = fmap[img_idx]  # Get feature map for the specific image\n",
    "            fmap_img = fmap_img[:num_filters]  # Select first few filters\n",
    "\n",
    "            for i, filter_map in enumerate(fmap_img):\n",
    "                if layer_idx == 0:\n",
    "                    axs[img_idx, layer_idx].set_title(f\"Layer {layer_idx+1}\")\n",
    "                axs[img_idx, layer_idx].imshow(filter_map.detach().cpu().numpy(), cmap='viridis')\n",
    "                axs[img_idx, layer_idx].axis('off')\n",
    "\n",
    "    plt.tight_layout()\n",
    "    plt.show()\n",
    "\n",
    "\n",
    "layer_config = [\n",
    "    {'type': 'conv2d', 'out_channels': 32, 'kernel_size': 3, 'stride': 1, 'padding': 1, 'activation': 'relu'},\n",
    "    {'type': 'pool', 'kernel_size': 2, 'pool_type': 'max'},\n",
    "    {'type': 'conv2d', 'out_channels': 64, 'kernel_size': 3, 'stride': 1, 'padding': 1, 'activation': 'relu'},\n",
    "    {'type': 'pool', 'kernel_size': 2, 'pool_type': 'max'},\n",
    "    {'type': 'conv2d', 'out_channels': 128, 'kernel_size': 3, 'stride': 1, 'padding': 1, 'activation': 'relu'},\n",
    "    {'type': 'pool', 'kernel_size': 2, 'pool_type': 'max'},\n",
    "]\n",
    "\n",
    "input_channels, input_size, num_classes = MultiMNISTDataset.get_dimensions(train_loader)\n",
    "\n",
    "model = CNN(layer_config=layer_config, input_channels=input_channels, input_size=input_size, num_classes=num_classes)\n",
    "\n",
    "\n",
    "loss_function = nn.CrossEntropyLoss()\n",
    "optimizer = optim.SGD(model.parameters(), lr=0.001, momentum=0.9)\n",
    "\n",
    "model.train_model(train_loader, val_loader, optimizer, loss_function, epochs=5)"
   ]
  },
  {
   "cell_type": "code",
   "execution_count": 9,
   "metadata": {},
   "outputs": [
    {
     "name": "stdout",
     "output_type": "stream",
     "text": [
      "Model Saved Successfully to try.pth\n",
      "Model Loaded Successfully from try.pth\n"
     ]
    },
    {
     "name": "stderr",
     "output_type": "stream",
     "text": [
      "C:\\Users\\devan\\AppData\\Local\\Temp\\ipykernel_28556\\2537199833.py:135: FutureWarning: You are using `torch.load` with `weights_only=False` (the current default value), which uses the default pickle module implicitly. It is possible to construct malicious pickle data which will execute arbitrary code during unpickling (See https://github.com/pytorch/pytorch/blob/main/SECURITY.md#untrusted-models for more details). In a future release, the default value for `weights_only` will be flipped to `True`. This limits the functions that could be executed during unpickling. Arbitrary objects will no longer be allowed to be loaded via this mode unless they are explicitly allowlisted by the user via `torch.serialization.add_safe_globals`. We recommend you start setting `weights_only=True` for any use case where you don't have full control of the loaded file. Please open an issue on GitHub for any issues related to this experimental feature.\n",
      "  self.load_state_dict(torch.load(from_path))\n"
     ]
    },
    {
     "name": "stdout",
     "output_type": "stream",
     "text": [
      "Test Accuracy: 100.00%\n"
     ]
    }
   ],
   "source": [
    "model.save('try.pth')\n",
    "net = CNN(layer_config,input_channels,input_size, num_classes)\n",
    "net.load('try.pth')\n",
    "model.test_model(test_loader)"
   ]
  },
  {
   "cell_type": "code",
   "execution_count": 25,
   "metadata": {},
   "outputs": [
    {
     "data": {
      "text/html": [
       "Changes to your `wandb` environment variables will be ignored because your `wandb` session has already started. For more information on how to modify your settings with `wandb.init()` arguments, please refer to <a href='https://wandb.me/wandb-init' target=\"_blank\">the W&B docs</a>."
      ],
      "text/plain": [
       "<IPython.core.display.HTML object>"
      ]
     },
     "metadata": {},
     "output_type": "display_data"
    },
    {
     "name": "stderr",
     "output_type": "stream",
     "text": [
      "\u001b[34m\u001b[1mwandb\u001b[0m: \u001b[33mWARNING\u001b[0m Ignored wandb.init() arg project when running a sweep.\n"
     ]
    },
    {
     "data": {
      "text/html": [
       "Tracking run with wandb version 0.18.3"
      ],
      "text/plain": [
       "<IPython.core.display.HTML object>"
      ]
     },
     "metadata": {},
     "output_type": "display_data"
    },
    {
     "data": {
      "text/html": [
       "Run data is saved locally in <code>c:\\Users\\devan\\OneDrive - International Institute of Information Technology\\Desktop\\Year3_Sem1\\SMAI\\Assignment 1\\smai-m24-assignments\\assignments\\4\\wandb\\run-20241103_214916-v7uoo9zc</code>"
      ],
      "text/plain": [
       "<IPython.core.display.HTML object>"
      ]
     },
     "metadata": {},
     "output_type": "display_data"
    },
    {
     "data": {
      "text/html": [
       "Syncing run <strong><a href='https://wandb.ai/devansh-kantesaria-iiit-hyderabad/MultiMNISTCNN-hyperparam-tuning/runs/v7uoo9zc' target=\"_blank\">radiant-sweep-3</a></strong> to <a href='https://wandb.ai/devansh-kantesaria-iiit-hyderabad/MultiMNISTCNN-hyperparam-tuning' target=\"_blank\">Weights & Biases</a> (<a href='https://wandb.me/run' target=\"_blank\">docs</a>)<br/>Sweep page: <a href='https://wandb.ai/devansh-kantesaria-iiit-hyderabad/MultiMNISTCNN-hyperparam-tuning/sweeps/uu9l782b' target=\"_blank\">https://wandb.ai/devansh-kantesaria-iiit-hyderabad/MultiMNISTCNN-hyperparam-tuning/sweeps/uu9l782b</a>"
      ],
      "text/plain": [
       "<IPython.core.display.HTML object>"
      ]
     },
     "metadata": {},
     "output_type": "display_data"
    },
    {
     "data": {
      "text/html": [
       " View project at <a href='https://wandb.ai/devansh-kantesaria-iiit-hyderabad/MultiMNISTCNN-hyperparam-tuning' target=\"_blank\">https://wandb.ai/devansh-kantesaria-iiit-hyderabad/MultiMNISTCNN-hyperparam-tuning</a>"
      ],
      "text/plain": [
       "<IPython.core.display.HTML object>"
      ]
     },
     "metadata": {},
     "output_type": "display_data"
    },
    {
     "data": {
      "text/html": [
       " View sweep at <a href='https://wandb.ai/devansh-kantesaria-iiit-hyderabad/MultiMNISTCNN-hyperparam-tuning/sweeps/uu9l782b' target=\"_blank\">https://wandb.ai/devansh-kantesaria-iiit-hyderabad/MultiMNISTCNN-hyperparam-tuning/sweeps/uu9l782b</a>"
      ],
      "text/plain": [
       "<IPython.core.display.HTML object>"
      ]
     },
     "metadata": {},
     "output_type": "display_data"
    },
    {
     "data": {
      "text/html": [
       " View run at <a href='https://wandb.ai/devansh-kantesaria-iiit-hyderabad/MultiMNISTCNN-hyperparam-tuning/runs/v7uoo9zc' target=\"_blank\">https://wandb.ai/devansh-kantesaria-iiit-hyderabad/MultiMNISTCNN-hyperparam-tuning/runs/v7uoo9zc</a>"
      ],
      "text/plain": [
       "<IPython.core.display.HTML object>"
      ]
     },
     "metadata": {},
     "output_type": "display_data"
    },
    {
     "name": "stdout",
     "output_type": "stream",
     "text": [
      "Running with hyperparameters: {'learning_rate': 0.001, 'dropout': 0.2, 'optimizer_choice': 'SGD'}\n"
     ]
    },
    {
     "data": {
      "text/html": [
       "Changes to your `wandb` environment variables will be ignored because your `wandb` session has already started. For more information on how to modify your settings with `wandb.init()` arguments, please refer to <a href='https://wandb.me/wandb-init' target=\"_blank\">the W&B docs</a>."
      ],
      "text/plain": [
       "<IPython.core.display.HTML object>"
      ]
     },
     "metadata": {},
     "output_type": "display_data"
    },
    {
     "name": "stderr",
     "output_type": "stream",
     "text": [
      "\u001b[34m\u001b[1mwandb\u001b[0m: \u001b[33mWARNING\u001b[0m Ignored wandb.init() arg project when running a sweep.\n"
     ]
    },
    {
     "data": {
      "text/html": [
       "Finishing last run (ID:v7uoo9zc) before initializing another..."
      ],
      "text/plain": [
       "<IPython.core.display.HTML object>"
      ]
     },
     "metadata": {},
     "output_type": "display_data"
    },
    {
     "name": "stderr",
     "output_type": "stream",
     "text": [
      "\u001b[34m\u001b[1mwandb\u001b[0m: \u001b[32m\u001b[41mERROR\u001b[0m Control-C detected -- Run data was not synced\n"
     ]
    },
    {
     "ename": "KeyboardInterrupt",
     "evalue": "",
     "output_type": "error",
     "traceback": [
      "\u001b[1;31m---------------------------------------------------------------------------\u001b[0m",
      "\u001b[1;31mKeyboardInterrupt\u001b[0m                         Traceback (most recent call last)",
      "Cell \u001b[1;32mIn[25], line 97\u001b[0m\n\u001b[0;32m     94\u001b[0m \u001b[38;5;28mprint\u001b[39m(\u001b[38;5;124mf\u001b[39m\u001b[38;5;124m\"\u001b[39m\u001b[38;5;124mRunning with hyperparameters: \u001b[39m\u001b[38;5;132;01m{\u001b[39;00mparams\u001b[38;5;132;01m}\u001b[39;00m\u001b[38;5;124m\"\u001b[39m)\n\u001b[0;32m     96\u001b[0m \u001b[38;5;66;03m# Initialize a new wandb run for each hyperparameter combination\u001b[39;00m\n\u001b[1;32m---> 97\u001b[0m \u001b[38;5;28;01mwith\u001b[39;00m \u001b[43mwandb\u001b[49m\u001b[38;5;241;43m.\u001b[39;49m\u001b[43minit\u001b[49m\u001b[43m(\u001b[49m\u001b[43mproject\u001b[49m\u001b[38;5;241;43m=\u001b[39;49m\u001b[38;5;124;43m\"\u001b[39;49m\u001b[38;5;124;43mcnn-hyperparameter-tuning\u001b[39;49m\u001b[38;5;124;43m\"\u001b[39;49m\u001b[43m,\u001b[49m\u001b[43m \u001b[49m\u001b[43mconfig\u001b[49m\u001b[38;5;241;43m=\u001b[39;49m\u001b[43mparams\u001b[49m\u001b[43m)\u001b[49m:\n\u001b[0;32m     98\u001b[0m     \u001b[38;5;66;03m# Train and validate the model\u001b[39;00m\n\u001b[0;32m     99\u001b[0m     model \u001b[38;5;241m=\u001b[39m train_and_validate_model(\n\u001b[0;32m    100\u001b[0m         layer_config\u001b[38;5;241m=\u001b[39mlayer_config,\n\u001b[0;32m    101\u001b[0m         input_channels\u001b[38;5;241m=\u001b[39minput_channels,\n\u001b[1;32m   (...)\u001b[0m\n\u001b[0;32m    107\u001b[0m         optimizer_choice\u001b[38;5;241m=\u001b[39mparams[\u001b[38;5;124m\"\u001b[39m\u001b[38;5;124moptimizer_choice\u001b[39m\u001b[38;5;124m\"\u001b[39m]\n\u001b[0;32m    108\u001b[0m     )\n\u001b[0;32m    110\u001b[0m     \u001b[38;5;66;03m# Test the model and log accuracy\u001b[39;00m\n",
      "File \u001b[1;32mc:\\Users\\devan\\AppData\\Local\\Programs\\Python\\Python312\\Lib\\site-packages\\wandb\\sdk\\wandb_init.py:1252\u001b[0m, in \u001b[0;36minit\u001b[1;34m(job_type, dir, config, project, entity, reinit, tags, group, name, notes, magic, config_exclude_keys, config_include_keys, anonymous, mode, allow_val_change, resume, force, tensorboard, sync_tensorboard, monitor_gym, save_code, id, fork_from, resume_from, settings)\u001b[0m\n\u001b[0;32m   1250\u001b[0m     wi \u001b[38;5;241m=\u001b[39m _WandbInit()\n\u001b[0;32m   1251\u001b[0m     wi\u001b[38;5;241m.\u001b[39msetup(kwargs)\n\u001b[1;32m-> 1252\u001b[0m     \u001b[38;5;28;01mreturn\u001b[39;00m \u001b[43mwi\u001b[49m\u001b[38;5;241;43m.\u001b[39;49m\u001b[43minit\u001b[49m\u001b[43m(\u001b[49m\u001b[43m)\u001b[49m\n\u001b[0;32m   1254\u001b[0m \u001b[38;5;28;01mexcept\u001b[39;00m \u001b[38;5;167;01mKeyboardInterrupt\u001b[39;00m \u001b[38;5;28;01mas\u001b[39;00m e:\n\u001b[0;32m   1255\u001b[0m     \u001b[38;5;28;01mif\u001b[39;00m logger \u001b[38;5;129;01mis\u001b[39;00m \u001b[38;5;129;01mnot\u001b[39;00m \u001b[38;5;28;01mNone\u001b[39;00m:\n",
      "File \u001b[1;32mc:\\Users\\devan\\AppData\\Local\\Programs\\Python\\Python312\\Lib\\site-packages\\wandb\\sdk\\wandb_init.py:652\u001b[0m, in \u001b[0;36m_WandbInit.init\u001b[1;34m(self)\u001b[0m\n\u001b[0;32m    647\u001b[0m \u001b[38;5;28;01mif\u001b[39;00m jupyter \u001b[38;5;129;01mand\u001b[39;00m \u001b[38;5;129;01mnot\u001b[39;00m \u001b[38;5;28mself\u001b[39m\u001b[38;5;241m.\u001b[39msettings\u001b[38;5;241m.\u001b[39msilent:\n\u001b[0;32m    648\u001b[0m     ipython\u001b[38;5;241m.\u001b[39mdisplay_html(\n\u001b[0;32m    649\u001b[0m         \u001b[38;5;124mf\u001b[39m\u001b[38;5;124m\"\u001b[39m\u001b[38;5;124mFinishing last run (ID:\u001b[39m\u001b[38;5;132;01m{\u001b[39;00mlatest_run\u001b[38;5;241m.\u001b[39m_run_id\u001b[38;5;132;01m}\u001b[39;00m\u001b[38;5;124m) before initializing another...\u001b[39m\u001b[38;5;124m\"\u001b[39m\n\u001b[0;32m    650\u001b[0m     )\n\u001b[1;32m--> 652\u001b[0m \u001b[43mlatest_run\u001b[49m\u001b[38;5;241;43m.\u001b[39;49m\u001b[43mfinish\u001b[49m\u001b[43m(\u001b[49m\u001b[43m)\u001b[49m\n\u001b[0;32m    654\u001b[0m \u001b[38;5;28;01mif\u001b[39;00m jupyter \u001b[38;5;129;01mand\u001b[39;00m \u001b[38;5;129;01mnot\u001b[39;00m \u001b[38;5;28mself\u001b[39m\u001b[38;5;241m.\u001b[39msettings\u001b[38;5;241m.\u001b[39msilent:\n\u001b[0;32m    655\u001b[0m     ipython\u001b[38;5;241m.\u001b[39mdisplay_html(\n\u001b[0;32m    656\u001b[0m         \u001b[38;5;124mf\u001b[39m\u001b[38;5;124m\"\u001b[39m\u001b[38;5;124mSuccessfully finished last run (ID:\u001b[39m\u001b[38;5;132;01m{\u001b[39;00mlatest_run\u001b[38;5;241m.\u001b[39m_run_id\u001b[38;5;132;01m}\u001b[39;00m\u001b[38;5;124m). Initializing new run:<br/>\u001b[39m\u001b[38;5;124m\"\u001b[39m\n\u001b[0;32m    657\u001b[0m     )\n",
      "File \u001b[1;32mc:\\Users\\devan\\AppData\\Local\\Programs\\Python\\Python312\\Lib\\site-packages\\wandb\\sdk\\wandb_run.py:452\u001b[0m, in \u001b[0;36m_run_decorator._noop.<locals>.wrapper\u001b[1;34m(self, *args, **kwargs)\u001b[0m\n\u001b[0;32m    449\u001b[0m         wandb\u001b[38;5;241m.\u001b[39mtermwarn(message, repeat\u001b[38;5;241m=\u001b[39m\u001b[38;5;28;01mFalse\u001b[39;00m)\n\u001b[0;32m    450\u001b[0m         \u001b[38;5;28;01mreturn\u001b[39;00m \u001b[38;5;28mcls\u001b[39m\u001b[38;5;241m.\u001b[39mDummy()\n\u001b[1;32m--> 452\u001b[0m \u001b[38;5;28;01mreturn\u001b[39;00m \u001b[43mfunc\u001b[49m\u001b[43m(\u001b[49m\u001b[38;5;28;43mself\u001b[39;49m\u001b[43m,\u001b[49m\u001b[43m \u001b[49m\u001b[38;5;241;43m*\u001b[39;49m\u001b[43margs\u001b[49m\u001b[43m,\u001b[49m\u001b[43m \u001b[49m\u001b[38;5;241;43m*\u001b[39;49m\u001b[38;5;241;43m*\u001b[39;49m\u001b[43mkwargs\u001b[49m\u001b[43m)\u001b[49m\n",
      "File \u001b[1;32mc:\\Users\\devan\\AppData\\Local\\Programs\\Python\\Python312\\Lib\\site-packages\\wandb\\sdk\\wandb_run.py:393\u001b[0m, in \u001b[0;36m_run_decorator._attach.<locals>.wrapper\u001b[1;34m(self, *args, **kwargs)\u001b[0m\n\u001b[0;32m    391\u001b[0m         \u001b[38;5;28;01mraise\u001b[39;00m e\n\u001b[0;32m    392\u001b[0m     \u001b[38;5;28mcls\u001b[39m\u001b[38;5;241m.\u001b[39m_is_attaching \u001b[38;5;241m=\u001b[39m \u001b[38;5;124m\"\u001b[39m\u001b[38;5;124m\"\u001b[39m\n\u001b[1;32m--> 393\u001b[0m \u001b[38;5;28;01mreturn\u001b[39;00m \u001b[43mfunc\u001b[49m\u001b[43m(\u001b[49m\u001b[38;5;28;43mself\u001b[39;49m\u001b[43m,\u001b[49m\u001b[43m \u001b[49m\u001b[38;5;241;43m*\u001b[39;49m\u001b[43margs\u001b[49m\u001b[43m,\u001b[49m\u001b[43m \u001b[49m\u001b[38;5;241;43m*\u001b[39;49m\u001b[38;5;241;43m*\u001b[39;49m\u001b[43mkwargs\u001b[49m\u001b[43m)\u001b[49m\n",
      "File \u001b[1;32mc:\\Users\\devan\\AppData\\Local\\Programs\\Python\\Python312\\Lib\\site-packages\\wandb\\sdk\\wandb_run.py:2157\u001b[0m, in \u001b[0;36mRun.finish\u001b[1;34m(self, exit_code, quiet)\u001b[0m\n\u001b[0;32m   2143\u001b[0m \u001b[38;5;129m@_run_decorator\u001b[39m\u001b[38;5;241m.\u001b[39m_noop\n\u001b[0;32m   2144\u001b[0m \u001b[38;5;129m@_run_decorator\u001b[39m\u001b[38;5;241m.\u001b[39m_attach\n\u001b[0;32m   2145\u001b[0m \u001b[38;5;28;01mdef\u001b[39;00m \u001b[38;5;21mfinish\u001b[39m(\n\u001b[0;32m   2146\u001b[0m     \u001b[38;5;28mself\u001b[39m, exit_code: Optional[\u001b[38;5;28mint\u001b[39m] \u001b[38;5;241m=\u001b[39m \u001b[38;5;28;01mNone\u001b[39;00m, quiet: Optional[\u001b[38;5;28mbool\u001b[39m] \u001b[38;5;241m=\u001b[39m \u001b[38;5;28;01mNone\u001b[39;00m\n\u001b[0;32m   2147\u001b[0m ) \u001b[38;5;241m-\u001b[39m\u001b[38;5;241m>\u001b[39m \u001b[38;5;28;01mNone\u001b[39;00m:\n\u001b[0;32m   2148\u001b[0m \u001b[38;5;250m    \u001b[39m\u001b[38;5;124;03m\"\"\"Mark a run as finished, and finish uploading all data.\u001b[39;00m\n\u001b[0;32m   2149\u001b[0m \n\u001b[0;32m   2150\u001b[0m \u001b[38;5;124;03m    This is used when creating multiple runs in the same process. We automatically\u001b[39;00m\n\u001b[1;32m   (...)\u001b[0m\n\u001b[0;32m   2155\u001b[0m \u001b[38;5;124;03m        quiet: Set to true to minimize log output\u001b[39;00m\n\u001b[0;32m   2156\u001b[0m \u001b[38;5;124;03m    \"\"\"\u001b[39;00m\n\u001b[1;32m-> 2157\u001b[0m     \u001b[38;5;28;01mreturn\u001b[39;00m \u001b[38;5;28;43mself\u001b[39;49m\u001b[38;5;241;43m.\u001b[39;49m\u001b[43m_finish\u001b[49m\u001b[43m(\u001b[49m\u001b[43mexit_code\u001b[49m\u001b[43m,\u001b[49m\u001b[43m \u001b[49m\u001b[43mquiet\u001b[49m\u001b[43m)\u001b[49m\n",
      "File \u001b[1;32mc:\\Users\\devan\\AppData\\Local\\Programs\\Python\\Python312\\Lib\\site-packages\\wandb\\sdk\\wandb_run.py:2191\u001b[0m, in \u001b[0;36mRun._finish\u001b[1;34m(self, exit_code, quiet)\u001b[0m\n\u001b[0;32m   2188\u001b[0m \u001b[38;5;28mself\u001b[39m\u001b[38;5;241m.\u001b[39m_is_finished \u001b[38;5;241m=\u001b[39m \u001b[38;5;28;01mTrue\u001b[39;00m\n\u001b[0;32m   2190\u001b[0m \u001b[38;5;28;01mtry\u001b[39;00m:\n\u001b[1;32m-> 2191\u001b[0m     \u001b[38;5;28;43mself\u001b[39;49m\u001b[38;5;241;43m.\u001b[39;49m\u001b[43m_atexit_cleanup\u001b[49m\u001b[43m(\u001b[49m\u001b[43mexit_code\u001b[49m\u001b[38;5;241;43m=\u001b[39;49m\u001b[43mexit_code\u001b[49m\u001b[43m)\u001b[49m\n\u001b[0;32m   2193\u001b[0m     \u001b[38;5;66;03m# Run hooks that should happen after the last messages to the\u001b[39;00m\n\u001b[0;32m   2194\u001b[0m     \u001b[38;5;66;03m# internal service, like detaching the logger.\u001b[39;00m\n\u001b[0;32m   2195\u001b[0m     \u001b[38;5;28;01mfor\u001b[39;00m hook \u001b[38;5;129;01min\u001b[39;00m \u001b[38;5;28mself\u001b[39m\u001b[38;5;241m.\u001b[39m_teardown_hooks:\n",
      "File \u001b[1;32mc:\\Users\\devan\\AppData\\Local\\Programs\\Python\\Python312\\Lib\\site-packages\\wandb\\sdk\\wandb_run.py:2440\u001b[0m, in \u001b[0;36mRun._atexit_cleanup\u001b[1;34m(self, exit_code)\u001b[0m\n\u001b[0;32m   2437\u001b[0m         os\u001b[38;5;241m.\u001b[39mremove(\u001b[38;5;28mself\u001b[39m\u001b[38;5;241m.\u001b[39m_settings\u001b[38;5;241m.\u001b[39mresume_fname)\n\u001b[0;32m   2439\u001b[0m \u001b[38;5;28;01mtry\u001b[39;00m:\n\u001b[1;32m-> 2440\u001b[0m     \u001b[38;5;28;43mself\u001b[39;49m\u001b[38;5;241;43m.\u001b[39;49m\u001b[43m_on_finish\u001b[49m\u001b[43m(\u001b[49m\u001b[43m)\u001b[49m\n\u001b[0;32m   2442\u001b[0m \u001b[38;5;28;01mexcept\u001b[39;00m \u001b[38;5;167;01mKeyboardInterrupt\u001b[39;00m:\n\u001b[0;32m   2443\u001b[0m     \u001b[38;5;28;01mif\u001b[39;00m \u001b[38;5;129;01mnot\u001b[39;00m wandb\u001b[38;5;241m.\u001b[39mwandb_agent\u001b[38;5;241m.\u001b[39m_is_running():  \u001b[38;5;66;03m# type: ignore\u001b[39;00m\n",
      "File \u001b[1;32mc:\\Users\\devan\\AppData\\Local\\Programs\\Python\\Python312\\Lib\\site-packages\\wandb\\sdk\\wandb_run.py:2682\u001b[0m, in \u001b[0;36mRun._on_finish\u001b[1;34m(self)\u001b[0m\n\u001b[0;32m   2679\u001b[0m exit_handle\u001b[38;5;241m.\u001b[39madd_probe(on_probe\u001b[38;5;241m=\u001b[39m\u001b[38;5;28mself\u001b[39m\u001b[38;5;241m.\u001b[39m_on_probe_exit)\n\u001b[0;32m   2681\u001b[0m \u001b[38;5;66;03m# wait for the exit to complete\u001b[39;00m\n\u001b[1;32m-> 2682\u001b[0m _ \u001b[38;5;241m=\u001b[39m \u001b[43mexit_handle\u001b[49m\u001b[38;5;241;43m.\u001b[39;49m\u001b[43mwait\u001b[49m\u001b[43m(\u001b[49m\u001b[43mtimeout\u001b[49m\u001b[38;5;241;43m=\u001b[39;49m\u001b[38;5;241;43m-\u001b[39;49m\u001b[38;5;241;43m1\u001b[39;49m\u001b[43m,\u001b[49m\u001b[43m \u001b[49m\u001b[43mon_progress\u001b[49m\u001b[38;5;241;43m=\u001b[39;49m\u001b[38;5;28;43mself\u001b[39;49m\u001b[38;5;241;43m.\u001b[39;49m\u001b[43m_on_progress_exit\u001b[49m\u001b[43m)\u001b[49m\n\u001b[0;32m   2684\u001b[0m poll_exit_handle \u001b[38;5;241m=\u001b[39m \u001b[38;5;28mself\u001b[39m\u001b[38;5;241m.\u001b[39m_backend\u001b[38;5;241m.\u001b[39minterface\u001b[38;5;241m.\u001b[39mdeliver_poll_exit()\n\u001b[0;32m   2685\u001b[0m \u001b[38;5;66;03m# wait for them, it's ok to do this serially but this can be improved\u001b[39;00m\n",
      "File \u001b[1;32mc:\\Users\\devan\\AppData\\Local\\Programs\\Python\\Python312\\Lib\\site-packages\\wandb\\sdk\\lib\\mailbox.py:283\u001b[0m, in \u001b[0;36mMailboxHandle.wait\u001b[1;34m(self, timeout, on_probe, on_progress, release, cancel)\u001b[0m\n\u001b[0;32m    280\u001b[0m     \u001b[38;5;28;01mif\u001b[39;00m \u001b[38;5;28mself\u001b[39m\u001b[38;5;241m.\u001b[39m_interface\u001b[38;5;241m.\u001b[39m_transport_keepalive_failed():\n\u001b[0;32m    281\u001b[0m         \u001b[38;5;28;01mraise\u001b[39;00m MailboxError(\u001b[38;5;124m\"\u001b[39m\u001b[38;5;124mtransport failed\u001b[39m\u001b[38;5;124m\"\u001b[39m)\n\u001b[1;32m--> 283\u001b[0m found, abandoned \u001b[38;5;241m=\u001b[39m \u001b[38;5;28;43mself\u001b[39;49m\u001b[38;5;241;43m.\u001b[39;49m\u001b[43m_slot\u001b[49m\u001b[38;5;241;43m.\u001b[39;49m\u001b[43m_get_and_clear\u001b[49m\u001b[43m(\u001b[49m\u001b[43mtimeout\u001b[49m\u001b[38;5;241;43m=\u001b[39;49m\u001b[43mwait_timeout\u001b[49m\u001b[43m)\u001b[49m\n\u001b[0;32m    284\u001b[0m \u001b[38;5;28;01mif\u001b[39;00m found:\n\u001b[0;32m    285\u001b[0m     \u001b[38;5;66;03m# Always update progress to 100% when done\u001b[39;00m\n\u001b[0;32m    286\u001b[0m     \u001b[38;5;28;01mif\u001b[39;00m on_progress \u001b[38;5;129;01mand\u001b[39;00m progress_handle \u001b[38;5;129;01mand\u001b[39;00m progress_sent:\n",
      "File \u001b[1;32mc:\\Users\\devan\\AppData\\Local\\Programs\\Python\\Python312\\Lib\\site-packages\\wandb\\sdk\\lib\\mailbox.py:130\u001b[0m, in \u001b[0;36m_MailboxSlot._get_and_clear\u001b[1;34m(self, timeout)\u001b[0m\n\u001b[0;32m    128\u001b[0m \u001b[38;5;28;01mdef\u001b[39;00m \u001b[38;5;21m_get_and_clear\u001b[39m(\u001b[38;5;28mself\u001b[39m, timeout: \u001b[38;5;28mfloat\u001b[39m) \u001b[38;5;241m-\u001b[39m\u001b[38;5;241m>\u001b[39m Tuple[Optional[pb\u001b[38;5;241m.\u001b[39mResult], \u001b[38;5;28mbool\u001b[39m]:\n\u001b[0;32m    129\u001b[0m     found \u001b[38;5;241m=\u001b[39m \u001b[38;5;28;01mNone\u001b[39;00m\n\u001b[1;32m--> 130\u001b[0m     \u001b[38;5;28;01mif\u001b[39;00m \u001b[38;5;28;43mself\u001b[39;49m\u001b[38;5;241;43m.\u001b[39;49m\u001b[43m_wait\u001b[49m\u001b[43m(\u001b[49m\u001b[43mtimeout\u001b[49m\u001b[38;5;241;43m=\u001b[39;49m\u001b[43mtimeout\u001b[49m\u001b[43m)\u001b[49m:\n\u001b[0;32m    131\u001b[0m         \u001b[38;5;28;01mwith\u001b[39;00m \u001b[38;5;28mself\u001b[39m\u001b[38;5;241m.\u001b[39m_lock:\n\u001b[0;32m    132\u001b[0m             found \u001b[38;5;241m=\u001b[39m \u001b[38;5;28mself\u001b[39m\u001b[38;5;241m.\u001b[39m_result\n",
      "File \u001b[1;32mc:\\Users\\devan\\AppData\\Local\\Programs\\Python\\Python312\\Lib\\site-packages\\wandb\\sdk\\lib\\mailbox.py:126\u001b[0m, in \u001b[0;36m_MailboxSlot._wait\u001b[1;34m(self, timeout)\u001b[0m\n\u001b[0;32m    125\u001b[0m \u001b[38;5;28;01mdef\u001b[39;00m \u001b[38;5;21m_wait\u001b[39m(\u001b[38;5;28mself\u001b[39m, timeout: \u001b[38;5;28mfloat\u001b[39m) \u001b[38;5;241m-\u001b[39m\u001b[38;5;241m>\u001b[39m \u001b[38;5;28mbool\u001b[39m:\n\u001b[1;32m--> 126\u001b[0m     \u001b[38;5;28;01mreturn\u001b[39;00m \u001b[38;5;28;43mself\u001b[39;49m\u001b[38;5;241;43m.\u001b[39;49m\u001b[43m_event\u001b[49m\u001b[38;5;241;43m.\u001b[39;49m\u001b[43mwait\u001b[49m\u001b[43m(\u001b[49m\u001b[43mtimeout\u001b[49m\u001b[38;5;241;43m=\u001b[39;49m\u001b[43mtimeout\u001b[49m\u001b[43m)\u001b[49m\n",
      "File \u001b[1;32mc:\\Users\\devan\\AppData\\Local\\Programs\\Python\\Python312\\Lib\\threading.py:634\u001b[0m, in \u001b[0;36mEvent.wait\u001b[1;34m(self, timeout)\u001b[0m\n\u001b[0;32m    632\u001b[0m signaled \u001b[38;5;241m=\u001b[39m \u001b[38;5;28mself\u001b[39m\u001b[38;5;241m.\u001b[39m_flag\n\u001b[0;32m    633\u001b[0m \u001b[38;5;28;01mif\u001b[39;00m \u001b[38;5;129;01mnot\u001b[39;00m signaled:\n\u001b[1;32m--> 634\u001b[0m     signaled \u001b[38;5;241m=\u001b[39m \u001b[38;5;28;43mself\u001b[39;49m\u001b[38;5;241;43m.\u001b[39;49m\u001b[43m_cond\u001b[49m\u001b[38;5;241;43m.\u001b[39;49m\u001b[43mwait\u001b[49m\u001b[43m(\u001b[49m\u001b[43mtimeout\u001b[49m\u001b[43m)\u001b[49m\n\u001b[0;32m    635\u001b[0m \u001b[38;5;28;01mreturn\u001b[39;00m signaled\n",
      "File \u001b[1;32mc:\\Users\\devan\\AppData\\Local\\Programs\\Python\\Python312\\Lib\\threading.py:338\u001b[0m, in \u001b[0;36mCondition.wait\u001b[1;34m(self, timeout)\u001b[0m\n\u001b[0;32m    336\u001b[0m \u001b[38;5;28;01melse\u001b[39;00m:\n\u001b[0;32m    337\u001b[0m     \u001b[38;5;28;01mif\u001b[39;00m timeout \u001b[38;5;241m>\u001b[39m \u001b[38;5;241m0\u001b[39m:\n\u001b[1;32m--> 338\u001b[0m         gotit \u001b[38;5;241m=\u001b[39m \u001b[43mwaiter\u001b[49m\u001b[38;5;241;43m.\u001b[39;49m\u001b[43macquire\u001b[49m\u001b[43m(\u001b[49m\u001b[38;5;28;43;01mTrue\u001b[39;49;00m\u001b[43m,\u001b[49m\u001b[43m \u001b[49m\u001b[43mtimeout\u001b[49m\u001b[43m)\u001b[49m\n\u001b[0;32m    339\u001b[0m     \u001b[38;5;28;01melse\u001b[39;00m:\n\u001b[0;32m    340\u001b[0m         gotit \u001b[38;5;241m=\u001b[39m waiter\u001b[38;5;241m.\u001b[39macquire(\u001b[38;5;28;01mFalse\u001b[39;00m)\n",
      "\u001b[1;31mKeyboardInterrupt\u001b[0m: "
     ]
    }
   ],
   "source": [
    "import wandb\n",
    "\n",
    "# Initialize wandb project\n",
    "wandb.init(project=\"cnn-hyperparameter-tuningg\")\n",
    "\n",
    "# Define a function to train and validate the model with different hyperparameters\n",
    "def train_and_validate_model(layer_config, input_channels, input_size, num_classes, task='regression', learning_rate=0.001, dropout=0.0, optimizer_choice='SGD', epochs=5):\n",
    "    # Initialize the model\n",
    "    model = CNN(layer_config=layer_config, input_channels=input_channels, input_size=input_size, num_classes=num_classes, task=task)\n",
    "    \n",
    "    # Apply dropout if specified\n",
    "    if dropout > 0:\n",
    "        model.fc1 = nn.Sequential(model.fc1, nn.Dropout(dropout))\n",
    "\n",
    "    # Select optimizer\n",
    "    if optimizer_choice == 'SGD':\n",
    "        optimizer = optim.SGD(model.parameters(), lr=learning_rate, momentum=0.9)\n",
    "    elif optimizer_choice == 'Adam':\n",
    "        optimizer = optim.Adam(model.parameters(), lr=learning_rate)\n",
    "    else:\n",
    "        raise ValueError(\"Unsupported optimizer choice\")\n",
    "\n",
    "    # Initialize loss function\n",
    "    loss_function = nn.MSELoss() if task == 'regression' else nn.CrossEntropyLoss()\n",
    "    \n",
    "    # Set up wandb configuration\n",
    "    wandb.config.update({\n",
    "        \"learning_rate\": learning_rate,\n",
    "        \"dropout_rate\": dropout,\n",
    "        \"optimizer\": optimizer_choice,\n",
    "        \"num_conv_layers\": len([layer for layer in layer_config if layer['type'] == 'conv2d']),\n",
    "        \"task\": task\n",
    "    })\n",
    "\n",
    "    # Training loop with wandb logging\n",
    "    for epoch in range(1, epochs + 1):\n",
    "        model.train()\n",
    "        total_loss = 0.0\n",
    "\n",
    "        for inputs, labels in train_loader:\n",
    "            optimizer.zero_grad()\n",
    "            outputs = model(inputs)\n",
    "            labels = labels.float().view(-1, 1) if task == 'regression' else labels\n",
    "            loss = loss_function(outputs, labels)\n",
    "            loss.backward()\n",
    "            optimizer.step()\n",
    "            total_loss += loss.item()\n",
    "\n",
    "        # Validation phase\n",
    "        model.eval()\n",
    "        correct_predictions = 0\n",
    "        total_samples = 0\n",
    "        val_loss = 0.0\n",
    "        with torch.no_grad():\n",
    "            for inputs, labels in val_loader:\n",
    "                outputs = model(inputs)\n",
    "                predictions = torch.round(outputs) if task == 'regression' else torch.argmax(outputs, dim=1)\n",
    "                labels = labels.float().view(-1, 1) if task == 'regression' else labels\n",
    "\n",
    "                val_loss += loss_function(outputs, labels).item()\n",
    "                total_samples += labels.size(0)\n",
    "                correct_predictions += (predictions == labels).sum().item()\n",
    "\n",
    "        val_accuracy = 100 * correct_predictions / total_samples\n",
    "        avg_train_loss = total_loss / len(train_loader)\n",
    "        avg_val_loss = val_loss / len(val_loader)\n",
    "        \n",
    "        # Log metrics to wandb\n",
    "        wandb.log({\n",
    "            \"epoch\": epoch,\n",
    "            \"train_loss\": avg_train_loss,\n",
    "            \"val_loss\": avg_val_loss,\n",
    "            \"val_accuracy\": val_accuracy\n",
    "        })\n",
    "        \n",
    "        print(f\"Epoch {epoch}/{epochs}: Training Loss: {avg_train_loss:.4f}, Validation Loss: {avg_val_loss:.4f}, Validation Accuracy: {val_accuracy:.2f}%\")\n",
    "\n",
    "    return model\n",
    "\n",
    "# Define hyperparameter combinations to tune\n",
    "hyperparams = [\n",
    "    {\"learning_rate\": 0.001, \"dropout\": 0.2, \"optimizer_choice\": \"SGD\"},\n",
    "    {\"learning_rate\": 0.001, \"dropout\": 0.5, \"optimizer_choice\": \"Adam\"},\n",
    "    {\"learning_rate\": 0.005, \"dropout\": 0.3, \"optimizer_choice\": \"SGD\"},\n",
    "    {\"learning_rate\": 0.005, \"dropout\": 0.5, \"optimizer_choice\": \"Adam\"},\n",
    "    {\"learning_rate\": 0.01, \"dropout\": 0.2, \"optimizer_choice\": \"SGD\"}\n",
    "]\n",
    "\n",
    "# Run training and validation for each hyperparameter combination\n",
    "best_model = None\n",
    "best_val_accuracy = 0\n",
    "\n",
    "for params in hyperparams:\n",
    "    print(f\"Running with hyperparameters: {params}\")\n",
    "    \n",
    "    # Initialize a new wandb run for each hyperparameter combination\n",
    "    with wandb.init(project=\"cnn-hyperparameter-tuning\", config=params):\n",
    "        # Train and validate the model\n",
    "        model = train_and_validate_model(\n",
    "            layer_config=layer_config,\n",
    "            input_channels=input_channels,\n",
    "            input_size=input_size,\n",
    "            num_classes=1,\n",
    "            task='regression',\n",
    "            learning_rate=params[\"learning_rate\"],\n",
    "            dropout=params[\"dropout\"],\n",
    "            optimizer_choice=params[\"optimizer_choice\"]\n",
    "        )\n",
    "\n",
    "        # Test the model and log accuracy\n",
    "        model.eval()\n",
    "        correct_predictions = 0\n",
    "        total_samples = 0\n",
    "        with torch.no_grad():\n",
    "            for inputs, labels in test_loader:\n",
    "                outputs = model(inputs)\n",
    "                predictions = torch.round(outputs) if task == 'regression' else torch.argmax(outputs, dim=1)\n",
    "                labels = labels.float().view(-1, 1) if task == 'regression' else labels\n",
    "\n",
    "                total_samples += labels.size(0)\n",
    "                correct_predictions += (predictions == labels).sum().item()\n",
    "\n",
    "        test_accuracy = 100 * correct_predictions / total_samples\n",
    "        wandb.log({\"test_accuracy\": test_accuracy})\n",
    "\n",
    "        # Update best model if current model has better validation accuracy\n",
    "        if test_accuracy > best_val_accuracy:\n",
    "            best_val_accuracy = test_accuracy\n",
    "            best_model = model\n",
    "\n",
    "# Save the best model\n",
    "if best_model:\n",
    "    best_model.save('best_model.pth')\n",
    "    print(\"Best model saved with test accuracy:\", best_val_accuracy)\n"
   ]
  },
  {
   "cell_type": "markdown",
   "metadata": {},
   "source": [
    "Wandb link: https://wandb.ai/devansh-kantesaria-iiit-hyderabad/MultiMNISTCNN-hyperparam-tuning/reports/CNN--VmlldzoxMDAwNjM4Ng?accessToken=jfhzzxlrira2w3vewly4u77wwihrf7lg60halomanpy9qsivj6a9iyy06dl7wzdl"
   ]
  },
  {
   "cell_type": "markdown",
   "metadata": {},
   "source": [
    "best params:\n",
    "batch_size:32\n",
    "epochs:10\n",
    "learning_rate:0.001\n",
    "train_loss:0.0036\n",
    "val_loss:0.0028685\n"
   ]
  },
  {
   "cell_type": "code",
   "execution_count": 19,
   "metadata": {},
   "outputs": [],
   "source": [
    "import matplotlib.pyplot as plt\n",
    "import torch\n",
    "import torch.nn as nn\n",
    "import torch.nn.functional as F\n",
    "import numpy as np\n",
    "\n",
    "\n",
    "class CNN(nn.Module):\n",
    "    def __init__(self, layer_config=[], input_channels=1, input_size=(128,128), num_classes=10, task='classification'):\n",
    "        super().__init__()\n",
    "        \n",
    "        self.task = task\n",
    "        self.activations = []          \n",
    "        self.layers = nn.ModuleList()  \n",
    "        \n",
    "        current_size = input_size\n",
    "        layer_in = input_channels\n",
    "\n",
    "        for config in layer_config:\n",
    "            if config['type'] == 'pool':\n",
    "                if config['pool_type'] == 'max':\n",
    "                    self.layers.append(nn.MaxPool2d(kernel_size=config['kernel_size'], stride=2))\n",
    "                elif config['pool_type'] == 'avg':\n",
    "                    self.layers.append(nn.AvgPool2d(kernel_size=config['kernel_size'], stride=2))\n",
    "                else:\n",
    "                    raise ValueError('Invalid pool type')\n",
    "\n",
    "                current_size = self.calculate_pool_output_size(current_size, config['kernel_size'], stride=2)\n",
    "            elif config['type'] == 'conv2d':\n",
    "                layer_out = config['out_channels']\n",
    "                self.layers.append(nn.Conv2d(layer_in, layer_out, kernel_size=config['kernel_size'], stride=config['stride'], padding=config['padding']))\n",
    "                self.activations.append(self.get_activation(config['activation']))\n",
    "\n",
    "                current_size = self.calculate_conv_output_size(current_size, config['kernel_size'], config['stride'], config['padding'])\n",
    "                layer_in = layer_out  \n",
    "\n",
    "        flattened_size = layer_in * current_size[0] * current_size[1]\n",
    "        self.fc1 = nn.Linear(flattened_size, 256)  \n",
    "        self.fc2 = nn.Linear(256, num_classes)\n",
    "\n",
    "    def get_activation(self, activation):\n",
    "        if activation == 'sigmoid':\n",
    "            return nn.Sigmoid()\n",
    "        if activation == 'relu':\n",
    "            return nn.ReLU()\n",
    "        if activation == 'tanh':\n",
    "            return nn.Tanh()\n",
    "        else:\n",
    "            raise ValueError('Invalid activation function')\n",
    "\n",
    "    def calculate_conv_output_size(self, input_size, kernel_size, stride, padding):\n",
    "        h_in, w_in = input_size\n",
    "        w_out = ((w_in - kernel_size + 2 * padding) // stride) + 1\n",
    "        h_out = ((h_in - kernel_size + 2 * padding) // stride) + 1\n",
    "        return (h_out, w_out)\n",
    "\n",
    "    def calculate_pool_output_size(self, input_size, kernel_size, stride):\n",
    "        h_in, w_in = input_size\n",
    "        w_out = ((w_in - kernel_size) // stride) + 1\n",
    "        h_out = ((h_in - kernel_size) // stride) + 1\n",
    "        return (h_out, w_out)\n",
    "\n",
    "    def forward(self, x, capture_features=False):\n",
    "        feature_maps = []  # List to store intermediate feature maps\n",
    "        for layer, activation in zip(self.layers, self.activations + [None] * (len(self.layers) - len(self.activations))):\n",
    "            x = layer(x)\n",
    "            if activation:\n",
    "                x = activation(x)\n",
    "            if capture_features:  # Capture feature map after each block\n",
    "                feature_maps.append(x)\n",
    "        x = torch.flatten(x, 1)\n",
    "        x = F.relu(self.fc1(x))\n",
    "        x = self.fc2(x)\n",
    "\n",
    "        if capture_features:\n",
    "            return x, feature_maps  # Return final output and feature maps\n",
    "        return x\n",
    "\n",
    "\n"
   ]
  },
  {
   "cell_type": "code",
   "execution_count": null,
   "metadata": {},
   "outputs": [
    {
     "data": {
      "image/png": "[encoded data removed]",
      "text/plain": [
       "<Figure size 640x480 with 1 Axes>"
      ]
     },
     "metadata": {},
     "output_type": "display_data"
    },
    {
     "data": {
      "image/png": "[encoded data removed]",
      "text/plain": [
       "<Figure size 640x480 with 1 Axes>"
      ]
     },
     "metadata": {},
     "output_type": "display_data"
    },
    {
     "data": {
      "image/png": "[encoded data removed]",
      "text/plain": [
       "<Figure size 640x480 with 1 Axes>"
      ]
     },
     "metadata": {},
     "output_type": "display_data"
    },
    {
     "data": {
      "image/png": "[encoded data removed]",
      "text/plain": [
       "<Figure size 640x480 with 1 Axes>"
      ]
     },
     "metadata": {},
     "output_type": "display_data"
    },
    {
     "data": {
      "image/png": "[encoded data removed]",
      "text/plain": [
       "<Figure size 640x480 with 1 Axes>"
      ]
     },
     "metadata": {},
     "output_type": "display_data"
    },
    {
     "data": {
      "image/png": "[encoded data removed]",
      "text/plain": [
       "<Figure size 640x480 with 1 Axes>"
      ]
     },
     "metadata": {},
     "output_type": "display_data"
    },
    {
     "data": {
      "image/png": "[encoded data removed]",
      "text/plain": [
       "<Figure size 640x480 with 1 Axes>"
      ]
     },
     "metadata": {},
     "output_type": "display_data"
    },
    {
     "data": {
      "image/png": "[encoded data removed]",
      "text/plain": [
       "<Figure size 640x480 with 1 Axes>"
      ]
     },
     "metadata": {},
     "output_type": "display_data"
    },
    {
     "data": {
      "image/png": "[encoded data removed]",
      "text/plain": [
       "<Figure size 640x480 with 1 Axes>"
      ]
     },
     "metadata": {},
     "output_type": "display_data"
    },
    {
     "data": {
      "image/png": "[encoded data removed]",
      "text/plain": [
       "<Figure size 640x480 with 1 Axes>"
      ]
     },
     "metadata": {},
     "output_type": "display_data"
    },
    {
     "data": {
      "image/png": "[encoded data removed]",
      "text/plain": [
       "<Figure size 640x480 with 1 Axes>"
      ]
     },
     "metadata": {},
     "output_type": "display_data"
    },
    {
     "data": {
      "image/png": "[encoded data removed]",
      "text/plain": [
       "<Figure size 640x480 with 1 Axes>"
      ]
     },
     "metadata": {},
     "output_type": "display_data"
    }
   ],
   "source": [
    "def visualize_feature_maps(model, images, layer_indices):\n",
    "    model.eval()\n",
    "    with torch.no_grad():\n",
    "        for i, img in enumerate(images):\n",
    "            # Forward pass with capturing feature maps\n",
    "            # Ensure img is in the correct shape: [1, C, H, W]\n",
    "            _, feature_maps = model(img.unsqueeze(0), capture_features=True)  # Unsqueeze to add batch dimension\n",
    "            \n",
    "            # Plot the feature maps for each specified layer\n",
    "            for layer_idx in layer_indices:\n",
    "                fmap = feature_maps[layer_idx]\n",
    "                num_filters = fmap.shape[1]\n",
    "                \n",
    "                # Plot a grid of feature maps for this layer\n",
    "                plt.figure(figsize=(15, 15))\n",
    "                plt.suptitle(f'Feature Maps for Image {i + 1} at Layer {layer_idx + 1}')\n",
    "                \n",
    "                grid_size = int(np.ceil(np.sqrt(num_filters)))\n",
    "                for j in range(num_filters):\n",
    "                    plt.subplot(grid_size, grid_size, j + 1)\n",
    "                    plt.imshow(fmap[0, j].cpu().numpy(), cmap='gray')  # Display the feature map\n",
    "                    plt.axis('off')\n",
    "                \n",
    "                plt.show()\n",
    "\n",
    "\n",
    "# Select 3 images from the test loader\n",
    "# sample_images, _ = next(iter(test_loader))\n",
    "# sample_images = sample_images[:3]\n",
    "\n",
    "# # Visualize feature maps for specific convolutional layers\n",
    "# layer_indices = [0, 2, 4]  # Adjust indices based on your architecture\n",
    "# visualize_feature_maps(model, sample_images, layer_indices)\n",
    "\n"
   ]
  },
  {
   "cell_type": "markdown",
   "metadata": {},
   "source": [
    "Layer 1 (Low-level features):\n",
    "\n",
    "The first layer appears to be focusing on basic edge and texture detection. The feature maps contain high-contrast areas with some boundaries and lines, which suggests that the network is detecting simple patterns such as edges, gradients, and orientations.\n",
    "\n",
    "Layer 2 (Mid-level features):\n",
    "\n",
    "In the second layer, the feature maps show more complex patterns, such as corners, blobs, and simple textures. The network is combining the edges and shapes detected in the previous layer to form more detailed and abstract representations.\n",
    "\n",
    "Layer 3 (High-level features):\n",
    "\n",
    "By the third layer, the feature maps contain even more abstract patterns and start to focus on higher-level representations of the object. These could include specific textures, shapes, or parts of objects that are critical for the classification or recognition task.\n",
    "\n",
    "In summary:\n",
    "\n",
    "Early layers (like Layer 1) capture general, low-level features (edges, textures).\n",
    "Middle layers (like Layer 2) capture mid-level features (patterns, shapes).\n",
    "Deeper layers (like Layer 3) capture high-level features (more abstract representations of parts of the object)."
   ]
  }
 ],
 "metadata": {
  "kernelspec": {
   "display_name": "Python 3",
   "language": "python",
   "name": "python3"
  },
  "language_info": {
   "codemirror_mode": {
    "name": "ipython",
    "version": 3
   },
   "file_extension": ".py",
   "mimetype": "text/x-python",
   "name": "python",
   "nbconvert_exporter": "python",
   "pygments_lexer": "ipython3",
   "version": "3.12.0"
  }
 },
 "nbformat": 4,
 "nbformat_minor": 2
}
