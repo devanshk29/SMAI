{
 "cells": [
  {
   "cell_type": "code",
   "execution_count": 1,
   "metadata": {},
   "outputs": [],
   "source": [
    "import os\n",
    "import numpy as np\n",
    "from PIL import Image\n",
    "\n",
    "import torch\n",
    "import torch.nn as nn\n",
    "import torch.nn.functional as F\n",
    "import torch.optim as optim\n",
    "\n",
    "import torchvision.transforms as transforms\n",
    "from torch.utils.data import Dataset, DataLoader\n"
   ]
  },
  {
   "cell_type": "code",
   "execution_count": 2,
   "metadata": {},
   "outputs": [],
   "source": [
    "transform = transforms.Compose([\n",
    "    transforms.Resize((64, 64)),\n",
    "    transforms.ToTensor(),\n",
    "    transforms.Normalize((0.5,), (0.5,))\n",
    "])"
   ]
  },
  {
   "cell_type": "code",
   "execution_count": 3,
   "metadata": {},
   "outputs": [
    {
     "name": "stderr",
     "output_type": "stream",
     "text": [
      "C:\\Users\\devan\\AppData\\Local\\Temp\\ipykernel_25320\\556602087.py:38: UserWarning: Creating a tensor from a list of numpy.ndarrays is extremely slow. Please consider converting the list to a single numpy.ndarray with numpy.array() before converting to a tensor. (Triggered internally at C:\\actions-runner\\_work\\pytorch\\pytorch\\builder\\windows\\pytorch\\torch\\csrc\\utils\\tensor_new.cpp:281.)\n",
      "  return torch.stack(images), torch.tensor(labels)\n"
     ]
    },
    {
     "name": "stdout",
     "output_type": "stream",
     "text": [
      "Number of Batches Train loader: 394\n",
      "Number of Batches Validation loader: 94\n",
      "Number of Batches Test loader: 144\n"
     ]
    }
   ],
   "source": [
    "class MultiMNISTDataset(Dataset):\n",
    "    def __init__(self, data_dir, transform=None, is_multi=False):\n",
    "        self.images, self.labels = self.load_mnist_data(data_dir, transform, is_multi)\n",
    "\n",
    "    def __len__(self):\n",
    "        return len(self.images)\n",
    "\n",
    "    def __getitem__(self, index):\n",
    "        return self.images[index], self.labels[index]\n",
    "    \n",
    "\n",
    "\n",
    "    \n",
    "    @staticmethod\n",
    "    def get_multi_labels(label_str, max_length):\n",
    "        output_vector = np.zeros(max_length * 10)\n",
    "        if label_str == '0':\n",
    "            return output_vector\n",
    "        for i, digit in enumerate(label_str):\n",
    "            output_vector[i * 10 + int(digit)] = 1\n",
    "        return output_vector\n",
    "    \n",
    "    @staticmethod\n",
    "    def load_mnist_data(data_dir, transform=None, is_multi=False):\n",
    "        max_length = max(len(label_str) for label_str in os.listdir(data_dir))\n",
    "        images, labels = [], []\n",
    "        for label_str in os.listdir(data_dir):\n",
    "            folder_path = os.path.join(data_dir, label_str)\n",
    "            label = (MultiMNISTDataset.get_multi_labels(label_str, max_length)\n",
    "                     if is_multi else (len(label_str) if label_str != '0' else 0))\n",
    "            for image_file in os.listdir(folder_path):\n",
    "                image_path = os.path.join(folder_path, image_file)\n",
    "                image = Image.open(image_path).convert('L')\n",
    "                if transform:\n",
    "                    image = transform(image)\n",
    "                images.append(image)\n",
    "                labels.append(label)\n",
    "        return torch.stack(images), torch.tensor(labels)\n",
    "\n",
    "    @staticmethod\n",
    "    def get_dataloader(data_dir, batch_size=32, shuffle=True, transform=None, is_multi=False):\n",
    "        dataset = MultiMNISTDataset(data_dir, transform, is_multi)\n",
    "        return DataLoader(dataset, batch_size=batch_size, shuffle=shuffle)\n",
    "\n",
    "    @staticmethod\n",
    "    def get_dimensions(loader):\n",
    "        input_channels, input_size = None, None\n",
    "        for image, label in loader:\n",
    "            if input_size is None:\n",
    "                input_channels = image.shape[1]\n",
    "                input_size=(image.shape[2], image.shape[3])\n",
    "        return input_channels, input_size\n",
    "    \n",
    "    @staticmethod\n",
    "    def get_max_classes(data_dir):\n",
    "        return max(len(label_str) for label_str in os.listdir(data_dir))\n",
    "\n",
    "        \n",
    "train_loader = MultiMNISTDataset.get_dataloader('./double_mnist/train', batch_size=32, shuffle=True, transform=transform, is_multi=True)\n",
    "val_loader = MultiMNISTDataset.get_dataloader('./double_mnist/val', batch_size=32, shuffle=True,transform=transform, is_multi=True)\n",
    "test_loader = MultiMNISTDataset.get_dataloader('./double_mnist/test', batch_size=32, shuffle=True,transform=transform, is_multi=True)\n",
    "\n",
    "max_classes = MultiMNISTDataset.get_max_classes('./double_mnist/train')\n",
    "\n",
    "print(\"Number of Batches Train loader:\", len(train_loader))\n",
    "print(\"Number of Batches Validation loader:\", len(val_loader))\n",
    "print(\"Number of Batches Test loader:\", len(test_loader))"
   ]
  },
  {
   "cell_type": "code",
   "execution_count": 4,
   "metadata": {},
   "outputs": [
    {
     "name": "stdout",
     "output_type": "stream",
     "text": [
      "3\n"
     ]
    }
   ],
   "source": [
    "print(max_classes)"
   ]
  },
  {
   "cell_type": "code",
   "execution_count": null,
   "metadata": {},
   "outputs": [],
   "source": [
    "class MultiLabelCNN(nn.Module):\n",
    "    def __init__(self, layer_config=[], input_channels=1, input_size=(128,128), max_classes=3):\n",
    "        super().__init__()\n",
    "\n",
    "        self.layers = nn.ModuleList()\n",
    "        self.activations = []  \n",
    "\n",
    "        layer_in = input_channels\n",
    "        current_size = input_size\n",
    "\n",
    "        for config in layer_config:\n",
    "            if config['type'] == 'conv2d':\n",
    "                layer_out = config['out_channels']\n",
    "                self.layers.append(nn.Conv2d(layer_in, layer_out, kernel_size=config['kernel_size'], stride=config['stride'], padding=config['padding']))\n",
    "                self.activations.append(self.get_activation(config['activation']))\n",
    "\n",
    "                current_size = self.calculate_conv_output_size(current_size, config['kernel_size'], config['stride'], config['padding'])\n",
    "                layer_in = layer_out  \n",
    "\n",
    "            elif config['type'] == 'pool':\n",
    "                if config['pool_type'] == 'max':\n",
    "                    self.layers.append(nn.MaxPool2d(kernel_size=config['kernel_size'], stride=2))\n",
    "                elif config['pool_type'] == 'avg':\n",
    "                    self.layers.append(nn.AvgPool2d(kernel_size=config['kernel_size'], stride=2))\n",
    "                else:\n",
    "                    raise ValueError('Invalid pool type')\n",
    "\n",
    "                current_size = self.calculate_pool_output_size(current_size, config['kernel_size'], stride=2)\n",
    "\n",
    "        flattened_size = layer_in * current_size[0] * current_size[1]\n",
    "\n",
    "        self.fc1 = nn.Linear(flattened_size, 256)  \n",
    "        self.fc2 = nn.Linear(256, max_classes*10)\n",
    "        self.softmax = nn.Softmax(dim=-1)\n",
    "\n",
    "    def get_activation(self, activation):\n",
    "        if activation == 'sigmoid':\n",
    "            return nn.Sigmoid()\n",
    "        if activation == 'relu':\n",
    "            return nn.ReLU()\n",
    "        if activation == 'tanh':\n",
    "            return nn.Tanh()\n",
    "        else:\n",
    "            raise ValueError('Invalid activation function')\n",
    "\n",
    "    def calculate_conv_output_size(self, input_size, kernel_size, stride, padding):\n",
    "        h_in, w_in = input_size\n",
    "        w_out = ((w_in - kernel_size + 2 * padding) // stride) + 1\n",
    "        h_out = ((h_in - kernel_size + 2 * padding) // stride) + 1\n",
    "        return (h_out, w_out)\n",
    "\n",
    "    def calculate_pool_output_size(self, input_size, kernel_size, stride):\n",
    "        h_in, w_in = input_size\n",
    "        w_out = ((w_in - kernel_size) // stride) + 1\n",
    "        h_out = ((h_in - kernel_size) // stride) + 1\n",
    "        return (h_out, w_out)\n",
    "\n",
    "    def forward(self, x):\n",
    "      \n",
    "        for layer, activation in zip(self.layers, self.activations + [None] * (len(self.layers) - len(self.activations))):\n",
    "          x = layer(x)\n",
    "          if activation:\n",
    "            x = activation(x)\n",
    "\n",
    "\n",
    "        x = torch.flatten(x, 1)\n",
    "\n",
    "        x = F.relu(self.fc1(x))\n",
    "        x = self.fc2(x)\n",
    "\n",
    "        return x\n",
    "    \n",
    "   \n",
    "    \n",
    "    @staticmethod     \n",
    "    def calculate_accuracy(outputs, labels, max_digits):\n",
    "        batch_size = outputs.size(0)\n",
    "        outputs = outputs.view(batch_size, max_digits, 10)\n",
    "        labels = labels.view(batch_size, max_digits, 10)\n",
    "        \n",
    "        predicted_digits = torch.argmax(outputs, dim=2)\n",
    "        true_digits = torch.argmax(labels, dim=2)\n",
    "        \n",
    "       \n",
    "\n",
    "        correct_predictions = (predicted_digits == true_digits).sum().item()\n",
    "        total_positions = batch_size * max_digits\n",
    "\n",
    "        accuracy = 100 * correct_predictions / total_positions\n",
    "        return accuracy\n",
    "\n",
    "    def train_model(self, train_loader, val_loader, optimizer, loss_function, epochs=5):\n",
    "        for epoch in range(epochs):\n",
    "            self.train()\n",
    "            total_loss = 0.0\n",
    "            print(f\"Epoch {epoch + 1}/{epochs}:\")\n",
    "\n",
    "            # Training Loop\n",
    "            for batch_idx, (inputs, labels) in enumerate(train_loader):\n",
    "                optimizer.zero_grad()\n",
    "                outputs = self(inputs)\n",
    "                loss = loss_function(outputs, labels)\n",
    "                loss.backward()\n",
    "                optimizer.step()\n",
    "                total_loss += loss.item()\n",
    "\n",
    "            # Validation Phase\n",
    "            self.eval()\n",
    "            total_accuracy = 0.0\n",
    "            with torch.no_grad():\n",
    "                for inputs, labels in val_loader:\n",
    "                    outputs = self(inputs)\n",
    "                    accuracy = MultiLabelCNN.calculate_accuracy(outputs, labels, self.fc2.out_features // 10)\n",
    "                    total_accuracy += accuracy\n",
    "\n",
    "            avg_loss = total_loss / len(train_loader)\n",
    "            avg_accuracy = total_accuracy / len(val_loader)\n",
    "            print(f\"Training Loss: {avg_loss:.4f}, Validation Accuracy: {avg_accuracy:.2f}%\")\n",
    "\n",
    "    def test_model(self, test_loader):\n",
    "        self.eval()\n",
    "        total_accuracy = 0.0\n",
    "        \n",
    "        with torch.no_grad():\n",
    "            for inputs, labels in test_loader:\n",
    "                outputs = self(inputs)\n",
    "                accuracy = MultiLabelCNN.calculate_accuracy(outputs, labels, self.fc2.out_features // 10)\n",
    "                total_accuracy += accuracy\n",
    "\n",
    "\n",
    "        avg_accuracy = total_accuracy / len(test_loader)\n",
    "        print(f\"Test Accuracy: {avg_accuracy:.2f}%\")\n",
    "\n",
    "\n",
    " \n",
    "\n",
    "    def save(self, to_path='./best.pth'):\n",
    "        torch.save(self.state_dict(), to_path)\n",
    "        print(f\"Model Saved Successfully to {to_path}\")\n",
    "        \n",
    "    def load(self, from_path='./best.pth'):\n",
    "        self.load_state_dict(torch.load(from_path))\n",
    "        print(f\"Model Loaded Successfully from {from_path}\")    "
   ]
  },
  {
   "cell_type": "code",
   "execution_count": 6,
   "metadata": {},
   "outputs": [
    {
     "name": "stdout",
     "output_type": "stream",
     "text": [
      "Epoch 1/5:\n",
      "Training Loss: 6.4997, Validation Accuracy: 6.32%\n",
      "Epoch 2/5:\n",
      "Training Loss: 6.4722, Validation Accuracy: 3.32%\n",
      "Epoch 3/5:\n",
      "Training Loss: 6.4645, Validation Accuracy: 2.58%\n",
      "Epoch 4/5:\n",
      "Training Loss: 6.4363, Validation Accuracy: 6.01%\n",
      "Epoch 5/5:\n",
      "Training Loss: 6.2451, Validation Accuracy: 7.61%\n"
     ]
    }
   ],
   "source": [
    "input_channels, input_size = MultiMNISTDataset.get_dimensions(train_loader)\n",
    "\n",
    "layer_config = [\n",
    "    {'type': 'conv2d', 'out_channels': 32, 'kernel_size': 3, 'stride': 1, 'padding': 1, 'activation': 'relu'},\n",
    "    {'type': 'pool', 'kernel_size': 2, 'pool_type': 'max'},\n",
    "    {'type': 'conv2d', 'out_channels': 64, 'kernel_size': 3, 'stride': 1, 'padding': 1, 'activation': 'relu'},\n",
    "    {'type': 'pool', 'kernel_size': 2, 'pool_type': 'max'},\n",
    "    {'type': 'conv2d', 'out_channels': 128, 'kernel_size': 3, 'stride': 1, 'padding': 1, 'activation': 'relu'},\n",
    "    {'type': 'pool', 'kernel_size': 2, 'pool_type': 'max'},\n",
    "]\n",
    "\n",
    "\n",
    "\n",
    "model = MultiLabelCNN(layer_config=layer_config, input_channels=input_channels, input_size=input_size, max_classes=max_classes)\n",
    "optimizer = optim.SGD(model.parameters(), lr=0.001, momentum=0.9)\n",
    "\n",
    "loss_function = nn.CrossEntropyLoss()\n",
    "\n",
    "\n",
    "model.train_model(train_loader, val_loader, optimizer, loss_function, epochs=5)"
   ]
  },
  {
   "cell_type": "code",
   "execution_count": 7,
   "metadata": {},
   "outputs": [
    {
     "name": "stdout",
     "output_type": "stream",
     "text": [
      "Model Saved Successfully to first_reg.pth\n",
      "Test Accuracy: 10.89%\n"
     ]
    }
   ],
   "source": [
    "model.save('first_reg.pth')\n",
    "net = MultiLabelCNN(layer_config=layer_config, input_channels=input_channels, input_size=input_size, max_classes=max_classes)\n",
    "# net.load('first_reg.pth')\n",
    "model.test_model(train_loader)"
   ]
  },
  {
   "cell_type": "markdown",
   "metadata": {},
   "source": [
    "# Full code"
   ]
  },
  {
   "cell_type": "code",
   "execution_count": null,
   "metadata": {},
   "outputs": [],
   "source": [
    "import os\n",
    "import numpy as np\n",
    "from PIL import Image\n",
    "\n",
    "import torch\n",
    "import torch.nn as nn\n",
    "import torch.nn.functional as F\n",
    "import torch.optim as optim\n",
    "\n",
    "import torchvision.transforms as transforms\n",
    "from torch.utils.data import Dataset, DataLoader\n",
    "\n",
    "transform = transforms.Compose([\n",
    "    transforms.Resize((64, 64)),\n",
    "    transforms.ToTensor(),\n",
    "    transforms.Normalize((0.5,), (0.5,))\n",
    "])\n",
    "\n",
    "\n",
    "\n",
    "class MultiMNISTDataset(Dataset):\n",
    "    def __init__(self, data_dir, transform=None, is_multi=False):\n",
    "        self.images, self.labels = self.load_mnist_data(data_dir, transform, is_multi)\n",
    "\n",
    "    def __len__(self):\n",
    "        return len(self.images)\n",
    "\n",
    "    def __getitem__(self, index):\n",
    "        return self.images[index], self.labels[index]\n",
    "    \n",
    "\n",
    "\n",
    "    \n",
    "    @staticmethod\n",
    "    def get_multi_labels(label_str, max_length):\n",
    "        output_vector = np.zeros(max_length * 10)\n",
    "        if label_str == '0':\n",
    "            return output_vector\n",
    "        for i, digit in enumerate(label_str):\n",
    "            output_vector[i * 10 + int(digit)] = 1\n",
    "        return output_vector\n",
    "    \n",
    "    @staticmethod\n",
    "    def load_mnist_data(data_dir, transform=None, is_multi=False):\n",
    "        max_length = max(len(label_str) for label_str in os.listdir(data_dir))\n",
    "        images, labels = [], []\n",
    "        for label_str in os.listdir(data_dir):\n",
    "            folder_path = os.path.join(data_dir, label_str)\n",
    "            label = (MultiMNISTDataset.get_multi_labels(label_str, max_length)\n",
    "                     if is_multi else (len(label_str) if label_str != '0' else 0))\n",
    "            for image_file in os.listdir(folder_path):\n",
    "                image_path = os.path.join(folder_path, image_file)\n",
    "                image = Image.open(image_path).convert('L')\n",
    "                if transform:\n",
    "                    image = transform(image)\n",
    "                images.append(image)\n",
    "                labels.append(label)\n",
    "        return torch.stack(images), torch.tensor(labels)\n",
    "\n",
    "    @staticmethod\n",
    "    def get_dataloader(data_dir, batch_size=32, shuffle=True, transform=None, is_multi=False):\n",
    "        dataset = MultiMNISTDataset(data_dir, transform, is_multi)\n",
    "        return DataLoader(dataset, batch_size=batch_size, shuffle=shuffle)\n",
    "\n",
    "    @staticmethod\n",
    "    def get_dimensions(loader):\n",
    "        input_channels, input_size = None, None\n",
    "        for image, label in loader:\n",
    "            if input_size is None:\n",
    "                input_channels = image.shape[1]\n",
    "                input_size=(image.shape[2], image.shape[3])\n",
    "        return input_channels, input_size\n",
    "    \n",
    "    @staticmethod\n",
    "    def get_max_classes(data_dir):\n",
    "        return max(len(label_str) for label_str in os.listdir(data_dir))\n",
    "\n",
    "        \n",
    "train_loader = MultiMNISTDataset.get_dataloader('./double_mnist/train', batch_size=32, shuffle=True, transform=transform, is_multi=True)\n",
    "val_loader = MultiMNISTDataset.get_dataloader('./double_mnist/val', batch_size=32, shuffle=True,transform=transform, is_multi=True)\n",
    "test_loader = MultiMNISTDataset.get_dataloader('./double_mnist/test', batch_size=32, shuffle=True,transform=transform, is_multi=True)\n",
    "\n",
    "max_classes = MultiMNISTDataset.get_max_classes('./double_mnist/train')\n",
    "\n",
    "print(\"Number of Batches Train loader:\", len(train_loader))\n",
    "print(\"Number of Batches Validation loader:\", len(val_loader))\n",
    "print(\"Number of Batches Test loader:\", len(test_loader))\n",
    "\n",
    "\n",
    "\n",
    "print(max_classes)\n",
    "\n",
    "\n",
    "\n",
    "class MultiLabelCNN(nn.Module):\n",
    "    def __init__(self, layer_config=[], input_channels=1, input_size=(128,128), max_classes=3):\n",
    "        super().__init__()\n",
    "\n",
    "        self.layers = nn.ModuleList()\n",
    "        self.activations = []  \n",
    "\n",
    "        layer_in = input_channels\n",
    "        current_size = input_size\n",
    "\n",
    "        for config in layer_config:\n",
    "            if config['type'] == 'conv2d':\n",
    "                layer_out = config['out_channels']\n",
    "                self.layers.append(nn.Conv2d(layer_in, layer_out, kernel_size=config['kernel_size'], stride=config['stride'], padding=config['padding']))\n",
    "                self.activations.append(self.get_activation(config['activation']))\n",
    "\n",
    "                current_size = self.calculate_conv_output_size(current_size, config['kernel_size'], config['stride'], config['padding'])\n",
    "                layer_in = layer_out  \n",
    "\n",
    "            elif config['type'] == 'pool':\n",
    "                if config['pool_type'] == 'max':\n",
    "                    self.layers.append(nn.MaxPool2d(kernel_size=config['kernel_size'], stride=2))\n",
    "                elif config['pool_type'] == 'avg':\n",
    "                    self.layers.append(nn.AvgPool2d(kernel_size=config['kernel_size'], stride=2))\n",
    "                else:\n",
    "                    raise ValueError('Invalid pool type')\n",
    "\n",
    "                current_size = self.calculate_pool_output_size(current_size, config['kernel_size'], stride=2)\n",
    "\n",
    "        flattened_size = layer_in * current_size[0] * current_size[1]\n",
    "\n",
    "        self.fc1 = nn.Linear(flattened_size, 256)  \n",
    "        self.fc2 = nn.Linear(256, max_classes*10)\n",
    "        self.softmax = nn.Softmax(dim=-1)\n",
    "\n",
    "    def get_activation(self, activation):\n",
    "        if activation == 'sigmoid':\n",
    "            return nn.Sigmoid()\n",
    "        if activation == 'relu':\n",
    "            return nn.ReLU()\n",
    "        if activation == 'tanh':\n",
    "            return nn.Tanh()\n",
    "        else:\n",
    "            raise ValueError('Invalid activation function')\n",
    "\n",
    "    def calculate_conv_output_size(self, input_size, kernel_size, stride, padding):\n",
    "        h_in, w_in = input_size\n",
    "        w_out = ((w_in - kernel_size + 2 * padding) // stride) + 1\n",
    "        h_out = ((h_in - kernel_size + 2 * padding) // stride) + 1\n",
    "        return (h_out, w_out)\n",
    "\n",
    "    def calculate_pool_output_size(self, input_size, kernel_size, stride):\n",
    "        h_in, w_in = input_size\n",
    "        w_out = ((w_in - kernel_size) // stride) + 1\n",
    "        h_out = ((h_in - kernel_size) // stride) + 1\n",
    "        return (h_out, w_out)\n",
    "\n",
    "    def forward(self, x):\n",
    "        # for i, layer in enumerate(self.layers):\n",
    "        #     x = layer(x)\n",
    "        #     if i < len(self.activations):\n",
    "        #         x = self.activations[i](x)\n",
    "\n",
    "        for layer, activation in zip(self.layers, self.activations + [None] * (len(self.layers) - len(self.activations))):\n",
    "          x = layer(x)\n",
    "          if activation:\n",
    "            x = activation(x)\n",
    "\n",
    "\n",
    "        x = torch.flatten(x, 1)\n",
    "\n",
    "        x = F.relu(self.fc1(x))\n",
    "        x = self.fc2(x)\n",
    "\n",
    "        return x\n",
    "    \n",
    "   \n",
    "    \n",
    "    @staticmethod     \n",
    "    def calculate_accuracy(outputs, labels, max_digits):\n",
    "        batch_size = outputs.size(0)\n",
    "        outputs = outputs.view(batch_size, max_digits, 10)\n",
    "        labels = labels.view(batch_size, max_digits, 10)\n",
    "        \n",
    "        predicted_digits = torch.argmax(outputs, dim=2)\n",
    "        true_digits = torch.argmax(labels, dim=2)\n",
    "        \n",
    "       \n",
    "\n",
    "        correct_predictions = (predicted_digits == true_digits).sum().item()\n",
    "        total_positions = batch_size * max_digits\n",
    "\n",
    "        accuracy = 100 * correct_predictions / total_positions\n",
    "        return accuracy\n",
    "\n",
    "    def train_model(self, train_loader, val_loader, optimizer, loss_function, epochs=5):\n",
    "        for epoch in range(epochs):\n",
    "            self.train()\n",
    "            total_loss = 0.0\n",
    "            print(f\"Epoch {epoch + 1}/{epochs}:\")\n",
    "\n",
    "            # Training Loop\n",
    "            for batch_idx, (inputs, labels) in enumerate(train_loader):\n",
    "                optimizer.zero_grad()\n",
    "                outputs = self(inputs)\n",
    "                loss = loss_function(outputs, labels)\n",
    "                loss.backward()\n",
    "                optimizer.step()\n",
    "                total_loss += loss.item()\n",
    "\n",
    "            # Validation Phase\n",
    "            self.eval()\n",
    "            total_accuracy = 0.0\n",
    "            with torch.no_grad():\n",
    "                for inputs, labels in val_loader:\n",
    "                    outputs = self(inputs)\n",
    "                    accuracy = MultiLabelCNN.calculate_accuracy(outputs, labels, self.fc2.out_features // 10)\n",
    "                    total_accuracy += accuracy\n",
    "\n",
    "            avg_loss = total_loss / len(train_loader)\n",
    "            avg_accuracy = total_accuracy / len(val_loader)\n",
    "            print(f\"Training Loss: {avg_loss:.4f}, Validation Accuracy: {avg_accuracy:.2f}%\")\n",
    "\n",
    "    def test_model(self, test_loader):\n",
    "        self.eval()\n",
    "        total_accuracy = 0.0\n",
    "        \n",
    "        with torch.no_grad():\n",
    "            for inputs, labels in test_loader:\n",
    "                outputs = self(inputs)\n",
    "                accuracy = MultiLabelCNN.calculate_accuracy(outputs, labels, self.fc2.out_features // 10)\n",
    "                total_accuracy += accuracy\n",
    "\n",
    "\n",
    "        avg_accuracy = total_accuracy / len(test_loader)\n",
    "        print(f\"Test Accuracy: {avg_accuracy:.2f}%\")\n",
    "\n",
    "\n",
    "\n",
    "\n",
    "    def save(self, to_path='./best.pth'):\n",
    "        torch.save(self.state_dict(), to_path)\n",
    "        print(f\"Model Saved Successfully to {to_path}\")\n",
    "        \n",
    "    def load(self, from_path='./best.pth'):\n",
    "        self.load_state_dict(torch.load(from_path))\n",
    "        print(f\"Model Loaded Successfully from {from_path}\")    \n",
    "\n",
    "\n",
    "\n",
    "input_channels, input_size = MultiMNISTDataset.get_dimensions(train_loader)\n",
    "\n",
    "layer_config = [\n",
    "    {'type': 'conv2d', 'out_channels': 32, 'kernel_size': 3, 'stride': 1, 'padding': 1, 'activation': 'relu'},\n",
    "    {'type': 'pool', 'kernel_size': 2, 'pool_type': 'max'},\n",
    "    {'type': 'conv2d', 'out_channels': 64, 'kernel_size': 3, 'stride': 1, 'padding': 1, 'activation': 'relu'},\n",
    "    {'type': 'pool', 'kernel_size': 2, 'pool_type': 'max'},\n",
    "    {'type': 'conv2d', 'out_channels': 128, 'kernel_size': 3, 'stride': 1, 'padding': 1, 'activation': 'relu'},\n",
    "    {'type': 'pool', 'kernel_size': 2, 'pool_type': 'max'},\n",
    "]\n",
    "\n",
    "\n",
    "\n",
    "model = MultiLabelCNN(layer_config=layer_config, input_channels=input_channels, input_size=input_size, max_classes=max_classes)\n",
    "optimizer = optim.SGD(model.parameters(), lr=0.001, momentum=0.9)\n",
    "\n",
    "loss_function = nn.CrossEntropyLoss()\n",
    "\n",
    "\n",
    "model.train_model(train_loader, val_loader, optimizer, loss_function, epochs=5)\n",
    "        \n",
    "\n",
    "model.save('first_reg.pth')\n",
    "net = MultiLabelCNN(layer_config=layer_config, input_channels=input_channels, input_size=input_size, max_classes=max_classes)\n",
    "# net.load('first_reg.pth')\n",
    "model.test_model(train_loader)"
   ]
  },
  {
   "cell_type": "code",
   "execution_count": null,
   "metadata": {},
   "outputs": [
    {
     "data": {
      "text/html": [
       "Tracking run with wandb version 0.18.3"
      ],
      "text/plain": [
       "<IPython.core.display.HTML object>"
      ]
     },
     "metadata": {},
     "output_type": "display_data"
    },
    {
     "data": {
      "text/html": [
       "Run data is saved locally in <code>c:\\Users\\devan\\OneDrive - International Institute of Information Technology\\Desktop\\Year3_Sem1\\SMAI\\Assignment 1\\smai-m24-assignments\\assignments\\4\\wandb\\run-20241103_123557-94k55jts</code>"
      ],
      "text/plain": [
       "<IPython.core.display.HTML object>"
      ]
     },
     "metadata": {},
     "output_type": "display_data"
    },
    {
     "data": {
      "text/html": [
       "Syncing run <strong><a href='https://wandb.ai/devansh-kantesaria-iiit-hyderabad/multilabel_cnn_hyperparameter_tuning/runs/94k55jts' target=\"_blank\">peachy-morning-2</a></strong> to <a href='https://wandb.ai/devansh-kantesaria-iiit-hyderabad/multilabel_cnn_hyperparameter_tuning' target=\"_blank\">Weights & Biases</a> (<a href='https://wandb.me/run' target=\"_blank\">docs</a>)<br/>"
      ],
      "text/plain": [
       "<IPython.core.display.HTML object>"
      ]
     },
     "metadata": {},
     "output_type": "display_data"
    },
    {
     "data": {
      "text/html": [
       " View project at <a href='https://wandb.ai/devansh-kantesaria-iiit-hyderabad/multilabel_cnn_hyperparameter_tuning' target=\"_blank\">https://wandb.ai/devansh-kantesaria-iiit-hyderabad/multilabel_cnn_hyperparameter_tuning</a>"
      ],
      "text/plain": [
       "<IPython.core.display.HTML object>"
      ]
     },
     "metadata": {},
     "output_type": "display_data"
    },
    {
     "data": {
      "text/html": [
       " View run at <a href='https://wandb.ai/devansh-kantesaria-iiit-hyderabad/multilabel_cnn_hyperparameter_tuning/runs/94k55jts' target=\"_blank\">https://wandb.ai/devansh-kantesaria-iiit-hyderabad/multilabel_cnn_hyperparameter_tuning/runs/94k55jts</a>"
      ],
      "text/plain": [
       "<IPython.core.display.HTML object>"
      ]
     },
     "metadata": {},
     "output_type": "display_data"
    },
    {
     "data": {
      "text/html": [
       "Finishing last run (ID:94k55jts) before initializing another..."
      ],
      "text/plain": [
       "<IPython.core.display.HTML object>"
      ]
     },
     "metadata": {},
     "output_type": "display_data"
    },
    {
     "data": {
      "text/html": [
       " View run <strong style=\"color:#cdcd00\">peachy-morning-2</strong> at: <a href='https://wandb.ai/devansh-kantesaria-iiit-hyderabad/multilabel_cnn_hyperparameter_tuning/runs/94k55jts' target=\"_blank\">https://wandb.ai/devansh-kantesaria-iiit-hyderabad/multilabel_cnn_hyperparameter_tuning/runs/94k55jts</a><br/> View project at: <a href='https://wandb.ai/devansh-kantesaria-iiit-hyderabad/multilabel_cnn_hyperparameter_tuning' target=\"_blank\">https://wandb.ai/devansh-kantesaria-iiit-hyderabad/multilabel_cnn_hyperparameter_tuning</a><br/>Synced 5 W&B file(s), 0 media file(s), 0 artifact file(s) and 0 other file(s)"
      ],
      "text/plain": [
       "<IPython.core.display.HTML object>"
      ]
     },
     "metadata": {},
     "output_type": "display_data"
    },
    {
     "data": {
      "text/html": [
       "Find logs at: <code>.\\wandb\\run-20241103_123557-94k55jts\\logs</code>"
      ],
      "text/plain": [
       "<IPython.core.display.HTML object>"
      ]
     },
     "metadata": {},
     "output_type": "display_data"
    },
    {
     "data": {
      "text/html": [
       "Successfully finished last run (ID:94k55jts). Initializing new run:<br/>"
      ],
      "text/plain": [
       "<IPython.core.display.HTML object>"
      ]
     },
     "metadata": {},
     "output_type": "display_data"
    },
    {
     "data": {
      "text/html": [
       "Tracking run with wandb version 0.18.3"
      ],
      "text/plain": [
       "<IPython.core.display.HTML object>"
      ]
     },
     "metadata": {},
     "output_type": "display_data"
    },
    {
     "data": {
      "text/html": [
       "Run data is saved locally in <code>c:\\Users\\devan\\OneDrive - International Institute of Information Technology\\Desktop\\Year3_Sem1\\SMAI\\Assignment 1\\smai-m24-assignments\\assignments\\4\\wandb\\run-20241103_123558-ycu4ztbe</code>"
      ],
      "text/plain": [
       "<IPython.core.display.HTML object>"
      ]
     },
     "metadata": {},
     "output_type": "display_data"
    },
    {
     "data": {
      "text/html": [
       "Syncing run <strong><a href='https://wandb.ai/devansh-kantesaria-iiit-hyderabad/smai-m24-assignments/runs/ycu4ztbe' target=\"_blank\">elated-microwave-2</a></strong> to <a href='https://wandb.ai/devansh-kantesaria-iiit-hyderabad/smai-m24-assignments' target=\"_blank\">Weights & Biases</a> (<a href='https://wandb.me/run' target=\"_blank\">docs</a>)<br/>"
      ],
      "text/plain": [
       "<IPython.core.display.HTML object>"
      ]
     },
     "metadata": {},
     "output_type": "display_data"
    },
    {
     "data": {
      "text/html": [
       " View project at <a href='https://wandb.ai/devansh-kantesaria-iiit-hyderabad/smai-m24-assignments' target=\"_blank\">https://wandb.ai/devansh-kantesaria-iiit-hyderabad/smai-m24-assignments</a>"
      ],
      "text/plain": [
       "<IPython.core.display.HTML object>"
      ]
     },
     "metadata": {},
     "output_type": "display_data"
    },
    {
     "data": {
      "text/html": [
       " View run at <a href='https://wandb.ai/devansh-kantesaria-iiit-hyderabad/smai-m24-assignments/runs/ycu4ztbe' target=\"_blank\">https://wandb.ai/devansh-kantesaria-iiit-hyderabad/smai-m24-assignments/runs/ycu4ztbe</a>"
      ],
      "text/plain": [
       "<IPython.core.display.HTML object>"
      ]
     },
     "metadata": {},
     "output_type": "display_data"
    },
    {
     "data": {
      "text/html": [
       "<style>\n",
       "    table.wandb td:nth-child(1) { padding: 0 10px; text-align: left ; width: auto;} td:nth-child(2) {text-align: left ; width: 100%}\n",
       "    .wandb-row { display: flex; flex-direction: row; flex-wrap: wrap; justify-content: flex-start; width: 100% }\n",
       "    .wandb-col { display: flex; flex-direction: column; flex-basis: 100%; flex: 1; padding: 10px; }\n",
       "    </style>\n",
       "<div class=\"wandb-row\"><div class=\"wandb-col\"><h3>Run history:</h3><br/><table class=\"wandb\"><tr><td>epoch</td><td>▁▃▅▆█</td></tr><tr><td>train_loss</td><td>█▇▅▂▁</td></tr><tr><td>val_accuracy</td><td>▂▁▁▅█</td></tr><tr><td>val_hamming_accuracy</td><td>█▇▂▁▁</td></tr><tr><td>val_loss</td><td>██▃▂▁</td></tr></table><br/></div><div class=\"wandb-col\"><h3>Run summary:</h3><br/><table class=\"wandb\"><tr><td>epoch</td><td>5</td></tr><tr><td>train_loss</td><td>5.959</td></tr><tr><td>val_accuracy</td><td>10.57181</td></tr><tr><td>val_hamming_accuracy</td><td>0.55967</td></tr><tr><td>val_loss</td><td>6.43646</td></tr></table><br/></div></div>"
      ],
      "text/plain": [
       "<IPython.core.display.HTML object>"
      ]
     },
     "metadata": {},
     "output_type": "display_data"
    },
    {
     "data": {
      "text/html": [
       " View run <strong style=\"color:#cdcd00\">elated-microwave-2</strong> at: <a href='https://wandb.ai/devansh-kantesaria-iiit-hyderabad/smai-m24-assignments/runs/ycu4ztbe' target=\"_blank\">https://wandb.ai/devansh-kantesaria-iiit-hyderabad/smai-m24-assignments/runs/ycu4ztbe</a><br/> View project at: <a href='https://wandb.ai/devansh-kantesaria-iiit-hyderabad/smai-m24-assignments' target=\"_blank\">https://wandb.ai/devansh-kantesaria-iiit-hyderabad/smai-m24-assignments</a><br/>Synced 5 W&B file(s), 0 media file(s), 2 artifact file(s) and 0 other file(s)"
      ],
      "text/plain": [
       "<IPython.core.display.HTML object>"
      ]
     },
     "metadata": {},
     "output_type": "display_data"
    },
    {
     "data": {
      "text/html": [
       "Find logs at: <code>.\\wandb\\run-20241103_123558-ycu4ztbe\\logs</code>"
      ],
      "text/plain": [
       "<IPython.core.display.HTML object>"
      ]
     },
     "metadata": {},
     "output_type": "display_data"
    },
    {
     "data": {
      "text/html": [
       "Tracking run with wandb version 0.18.3"
      ],
      "text/plain": [
       "<IPython.core.display.HTML object>"
      ]
     },
     "metadata": {},
     "output_type": "display_data"
    },
    {
     "data": {
      "text/html": [
       "Run data is saved locally in <code>c:\\Users\\devan\\OneDrive - International Institute of Information Technology\\Desktop\\Year3_Sem1\\SMAI\\Assignment 1\\smai-m24-assignments\\assignments\\4\\wandb\\run-20241103_124050-s74c9bjw</code>"
      ],
      "text/plain": [
       "<IPython.core.display.HTML object>"
      ]
     },
     "metadata": {},
     "output_type": "display_data"
    },
    {
     "data": {
      "text/html": [
       "Syncing run <strong><a href='https://wandb.ai/devansh-kantesaria-iiit-hyderabad/smai-m24-assignments/runs/s74c9bjw' target=\"_blank\">worldly-bee-3</a></strong> to <a href='https://wandb.ai/devansh-kantesaria-iiit-hyderabad/smai-m24-assignments' target=\"_blank\">Weights & Biases</a> (<a href='https://wandb.me/run' target=\"_blank\">docs</a>)<br/>"
      ],
      "text/plain": [
       "<IPython.core.display.HTML object>"
      ]
     },
     "metadata": {},
     "output_type": "display_data"
    },
    {
     "data": {
      "text/html": [
       " View project at <a href='https://wandb.ai/devansh-kantesaria-iiit-hyderabad/smai-m24-assignments' target=\"_blank\">https://wandb.ai/devansh-kantesaria-iiit-hyderabad/smai-m24-assignments</a>"
      ],
      "text/plain": [
       "<IPython.core.display.HTML object>"
      ]
     },
     "metadata": {},
     "output_type": "display_data"
    },
    {
     "data": {
      "text/html": [
       " View run at <a href='https://wandb.ai/devansh-kantesaria-iiit-hyderabad/smai-m24-assignments/runs/s74c9bjw' target=\"_blank\">https://wandb.ai/devansh-kantesaria-iiit-hyderabad/smai-m24-assignments/runs/s74c9bjw</a>"
      ],
      "text/plain": [
       "<IPython.core.display.HTML object>"
      ]
     },
     "metadata": {},
     "output_type": "display_data"
    },
    {
     "data": {
      "text/html": [
       "<style>\n",
       "    table.wandb td:nth-child(1) { padding: 0 10px; text-align: left ; width: auto;} td:nth-child(2) {text-align: left ; width: 100%}\n",
       "    .wandb-row { display: flex; flex-direction: row; flex-wrap: wrap; justify-content: flex-start; width: 100% }\n",
       "    .wandb-col { display: flex; flex-direction: column; flex-basis: 100%; flex: 1; padding: 10px; }\n",
       "    </style>\n",
       "<div class=\"wandb-row\"><div class=\"wandb-col\"><h3>Run history:</h3><br/><table class=\"wandb\"><tr><td>epoch</td><td>▁▃▅▆█</td></tr><tr><td>train_loss</td><td>█▅▃▂▁</td></tr><tr><td>val_accuracy</td><td>▁▆▇██</td></tr><tr><td>val_hamming_accuracy</td><td>▁▄▆▇█</td></tr><tr><td>val_loss</td><td>█▃▂▁▃</td></tr></table><br/></div><div class=\"wandb-col\"><h3>Run summary:</h3><br/><table class=\"wandb\"><tr><td>epoch</td><td>5</td></tr><tr><td>train_loss</td><td>2.58847</td></tr><tr><td>val_accuracy</td><td>34.09427</td></tr><tr><td>val_hamming_accuracy</td><td>0.79827</td></tr><tr><td>val_loss</td><td>5.46635</td></tr></table><br/></div></div>"
      ],
      "text/plain": [
       "<IPython.core.display.HTML object>"
      ]
     },
     "metadata": {},
     "output_type": "display_data"
    },
    {
     "data": {
      "text/html": [
       " View run <strong style=\"color:#cdcd00\">worldly-bee-3</strong> at: <a href='https://wandb.ai/devansh-kantesaria-iiit-hyderabad/smai-m24-assignments/runs/s74c9bjw' target=\"_blank\">https://wandb.ai/devansh-kantesaria-iiit-hyderabad/smai-m24-assignments/runs/s74c9bjw</a><br/> View project at: <a href='https://wandb.ai/devansh-kantesaria-iiit-hyderabad/smai-m24-assignments' target=\"_blank\">https://wandb.ai/devansh-kantesaria-iiit-hyderabad/smai-m24-assignments</a><br/>Synced 5 W&B file(s), 0 media file(s), 0 artifact file(s) and 0 other file(s)"
      ],
      "text/plain": [
       "<IPython.core.display.HTML object>"
      ]
     },
     "metadata": {},
     "output_type": "display_data"
    },
    {
     "data": {
      "text/html": [
       "Find logs at: <code>.\\wandb\\run-20241103_124050-s74c9bjw\\logs</code>"
      ],
      "text/plain": [
       "<IPython.core.display.HTML object>"
      ]
     },
     "metadata": {},
     "output_type": "display_data"
    },
    {
     "data": {
      "text/html": [
       "Tracking run with wandb version 0.18.3"
      ],
      "text/plain": [
       "<IPython.core.display.HTML object>"
      ]
     },
     "metadata": {},
     "output_type": "display_data"
    },
    {
     "data": {
      "text/html": [
       "Run data is saved locally in <code>c:\\Users\\devan\\OneDrive - International Institute of Information Technology\\Desktop\\Year3_Sem1\\SMAI\\Assignment 1\\smai-m24-assignments\\assignments\\4\\wandb\\run-20241103_124440-ai6anu5q</code>"
      ],
      "text/plain": [
       "<IPython.core.display.HTML object>"
      ]
     },
     "metadata": {},
     "output_type": "display_data"
    },
    {
     "data": {
      "text/html": [
       "Syncing run <strong><a href='https://wandb.ai/devansh-kantesaria-iiit-hyderabad/smai-m24-assignments/runs/ai6anu5q' target=\"_blank\">unique-fog-4</a></strong> to <a href='https://wandb.ai/devansh-kantesaria-iiit-hyderabad/smai-m24-assignments' target=\"_blank\">Weights & Biases</a> (<a href='https://wandb.me/run' target=\"_blank\">docs</a>)<br/>"
      ],
      "text/plain": [
       "<IPython.core.display.HTML object>"
      ]
     },
     "metadata": {},
     "output_type": "display_data"
    },
    {
     "data": {
      "text/html": [
       " View project at <a href='https://wandb.ai/devansh-kantesaria-iiit-hyderabad/smai-m24-assignments' target=\"_blank\">https://wandb.ai/devansh-kantesaria-iiit-hyderabad/smai-m24-assignments</a>"
      ],
      "text/plain": [
       "<IPython.core.display.HTML object>"
      ]
     },
     "metadata": {},
     "output_type": "display_data"
    },
    {
     "data": {
      "text/html": [
       " View run at <a href='https://wandb.ai/devansh-kantesaria-iiit-hyderabad/smai-m24-assignments/runs/ai6anu5q' target=\"_blank\">https://wandb.ai/devansh-kantesaria-iiit-hyderabad/smai-m24-assignments/runs/ai6anu5q</a>"
      ],
      "text/plain": [
       "<IPython.core.display.HTML object>"
      ]
     },
     "metadata": {},
     "output_type": "display_data"
    },
    {
     "data": {
      "text/html": [
       "<style>\n",
       "    table.wandb td:nth-child(1) { padding: 0 10px; text-align: left ; width: auto;} td:nth-child(2) {text-align: left ; width: 100%}\n",
       "    .wandb-row { display: flex; flex-direction: row; flex-wrap: wrap; justify-content: flex-start; width: 100% }\n",
       "    .wandb-col { display: flex; flex-direction: column; flex-basis: 100%; flex: 1; padding: 10px; }\n",
       "    </style>\n",
       "<div class=\"wandb-row\"><div class=\"wandb-col\"><h3>Run history:</h3><br/><table class=\"wandb\"><tr><td>epoch</td><td>▁▃▅▆█</td></tr><tr><td>train_loss</td><td>██▇▄▁</td></tr><tr><td>val_accuracy</td><td>▁▂▄██</td></tr><tr><td>val_hamming_accuracy</td><td>██▇▂▁</td></tr><tr><td>val_loss</td><td>██▇▁▂</td></tr></table><br/></div><div class=\"wandb-col\"><h3>Run summary:</h3><br/><table class=\"wandb\"><tr><td>epoch</td><td>5</td></tr><tr><td>train_loss</td><td>5.99593</td></tr><tr><td>val_accuracy</td><td>9.05733</td></tr><tr><td>val_hamming_accuracy</td><td>0.5796</td></tr><tr><td>val_loss</td><td>6.48785</td></tr></table><br/></div></div>"
      ],
      "text/plain": [
       "<IPython.core.display.HTML object>"
      ]
     },
     "metadata": {},
     "output_type": "display_data"
    },
    {
     "data": {
      "text/html": [
       " View run <strong style=\"color:#cdcd00\">unique-fog-4</strong> at: <a href='https://wandb.ai/devansh-kantesaria-iiit-hyderabad/smai-m24-assignments/runs/ai6anu5q' target=\"_blank\">https://wandb.ai/devansh-kantesaria-iiit-hyderabad/smai-m24-assignments/runs/ai6anu5q</a><br/> View project at: <a href='https://wandb.ai/devansh-kantesaria-iiit-hyderabad/smai-m24-assignments' target=\"_blank\">https://wandb.ai/devansh-kantesaria-iiit-hyderabad/smai-m24-assignments</a><br/>Synced 5 W&B file(s), 0 media file(s), 2 artifact file(s) and 0 other file(s)"
      ],
      "text/plain": [
       "<IPython.core.display.HTML object>"
      ]
     },
     "metadata": {},
     "output_type": "display_data"
    },
    {
     "data": {
      "text/html": [
       "Find logs at: <code>.\\wandb\\run-20241103_124440-ai6anu5q\\logs</code>"
      ],
      "text/plain": [
       "<IPython.core.display.HTML object>"
      ]
     },
     "metadata": {},
     "output_type": "display_data"
    },
    {
     "data": {
      "text/html": [
       "Tracking run with wandb version 0.18.3"
      ],
      "text/plain": [
       "<IPython.core.display.HTML object>"
      ]
     },
     "metadata": {},
     "output_type": "display_data"
    },
    {
     "data": {
      "text/html": [
       "Run data is saved locally in <code>c:\\Users\\devan\\OneDrive - International Institute of Information Technology\\Desktop\\Year3_Sem1\\SMAI\\Assignment 1\\smai-m24-assignments\\assignments\\4\\wandb\\run-20241103_125022-jbl270p8</code>"
      ],
      "text/plain": [
       "<IPython.core.display.HTML object>"
      ]
     },
     "metadata": {},
     "output_type": "display_data"
    },
    {
     "data": {
      "text/html": [
       "Syncing run <strong><a href='https://wandb.ai/devansh-kantesaria-iiit-hyderabad/smai-m24-assignments/runs/jbl270p8' target=\"_blank\">toasty-glade-5</a></strong> to <a href='https://wandb.ai/devansh-kantesaria-iiit-hyderabad/smai-m24-assignments' target=\"_blank\">Weights & Biases</a> (<a href='https://wandb.me/run' target=\"_blank\">docs</a>)<br/>"
      ],
      "text/plain": [
       "<IPython.core.display.HTML object>"
      ]
     },
     "metadata": {},
     "output_type": "display_data"
    },
    {
     "data": {
      "text/html": [
       " View project at <a href='https://wandb.ai/devansh-kantesaria-iiit-hyderabad/smai-m24-assignments' target=\"_blank\">https://wandb.ai/devansh-kantesaria-iiit-hyderabad/smai-m24-assignments</a>"
      ],
      "text/plain": [
       "<IPython.core.display.HTML object>"
      ]
     },
     "metadata": {},
     "output_type": "display_data"
    },
    {
     "data": {
      "text/html": [
       " View run at <a href='https://wandb.ai/devansh-kantesaria-iiit-hyderabad/smai-m24-assignments/runs/jbl270p8' target=\"_blank\">https://wandb.ai/devansh-kantesaria-iiit-hyderabad/smai-m24-assignments/runs/jbl270p8</a>"
      ],
      "text/plain": [
       "<IPython.core.display.HTML object>"
      ]
     },
     "metadata": {},
     "output_type": "display_data"
    },
    {
     "data": {
      "text/html": [
       "<style>\n",
       "    table.wandb td:nth-child(1) { padding: 0 10px; text-align: left ; width: auto;} td:nth-child(2) {text-align: left ; width: 100%}\n",
       "    .wandb-row { display: flex; flex-direction: row; flex-wrap: wrap; justify-content: flex-start; width: 100% }\n",
       "    .wandb-col { display: flex; flex-direction: column; flex-basis: 100%; flex: 1; padding: 10px; }\n",
       "    </style>\n",
       "<div class=\"wandb-row\"><div class=\"wandb-col\"><h3>Run history:</h3><br/><table class=\"wandb\"><tr><td>epoch</td><td>▁▃▅▆█</td></tr><tr><td>train_loss</td><td>█▄▂▁▁</td></tr><tr><td>val_accuracy</td><td>▁▆▇██</td></tr><tr><td>val_hamming_accuracy</td><td>▁▆▇██</td></tr><tr><td>val_loss</td><td>█▃▂▁▁</td></tr></table><br/></div><div class=\"wandb-col\"><h3>Run summary:</h3><br/><table class=\"wandb\"><tr><td>epoch</td><td>5</td></tr><tr><td>train_loss</td><td>1.99306</td></tr><tr><td>val_accuracy</td><td>56.87057</td></tr><tr><td>val_hamming_accuracy</td><td>0.88582</td></tr><tr><td>val_loss</td><td>3.50497</td></tr></table><br/></div></div>"
      ],
      "text/plain": [
       "<IPython.core.display.HTML object>"
      ]
     },
     "metadata": {},
     "output_type": "display_data"
    },
    {
     "data": {
      "text/html": [
       " View run <strong style=\"color:#cdcd00\">toasty-glade-5</strong> at: <a href='https://wandb.ai/devansh-kantesaria-iiit-hyderabad/smai-m24-assignments/runs/jbl270p8' target=\"_blank\">https://wandb.ai/devansh-kantesaria-iiit-hyderabad/smai-m24-assignments/runs/jbl270p8</a><br/> View project at: <a href='https://wandb.ai/devansh-kantesaria-iiit-hyderabad/smai-m24-assignments' target=\"_blank\">https://wandb.ai/devansh-kantesaria-iiit-hyderabad/smai-m24-assignments</a><br/>Synced 5 W&B file(s), 0 media file(s), 0 artifact file(s) and 0 other file(s)"
      ],
      "text/plain": [
       "<IPython.core.display.HTML object>"
      ]
     },
     "metadata": {},
     "output_type": "display_data"
    },
    {
     "data": {
      "text/html": [
       "Find logs at: <code>.\\wandb\\run-20241103_125022-jbl270p8\\logs</code>"
      ],
      "text/plain": [
       "<IPython.core.display.HTML object>"
      ]
     },
     "metadata": {},
     "output_type": "display_data"
    },
    {
     "data": {
      "text/html": [
       "Tracking run with wandb version 0.18.3"
      ],
      "text/plain": [
       "<IPython.core.display.HTML object>"
      ]
     },
     "metadata": {},
     "output_type": "display_data"
    },
    {
     "data": {
      "text/html": [
       "Run data is saved locally in <code>c:\\Users\\devan\\OneDrive - International Institute of Information Technology\\Desktop\\Year3_Sem1\\SMAI\\Assignment 1\\smai-m24-assignments\\assignments\\4\\wandb\\run-20241103_125628-z3vuti8o</code>"
      ],
      "text/plain": [
       "<IPython.core.display.HTML object>"
      ]
     },
     "metadata": {},
     "output_type": "display_data"
    },
    {
     "data": {
      "text/html": [
       "Syncing run <strong><a href='https://wandb.ai/devansh-kantesaria-iiit-hyderabad/smai-m24-assignments/runs/z3vuti8o' target=\"_blank\">frosty-haze-6</a></strong> to <a href='https://wandb.ai/devansh-kantesaria-iiit-hyderabad/smai-m24-assignments' target=\"_blank\">Weights & Biases</a> (<a href='https://wandb.me/run' target=\"_blank\">docs</a>)<br/>"
      ],
      "text/plain": [
       "<IPython.core.display.HTML object>"
      ]
     },
     "metadata": {},
     "output_type": "display_data"
    },
    {
     "data": {
      "text/html": [
       " View project at <a href='https://wandb.ai/devansh-kantesaria-iiit-hyderabad/smai-m24-assignments' target=\"_blank\">https://wandb.ai/devansh-kantesaria-iiit-hyderabad/smai-m24-assignments</a>"
      ],
      "text/plain": [
       "<IPython.core.display.HTML object>"
      ]
     },
     "metadata": {},
     "output_type": "display_data"
    },
    {
     "data": {
      "text/html": [
       " View run at <a href='https://wandb.ai/devansh-kantesaria-iiit-hyderabad/smai-m24-assignments/runs/z3vuti8o' target=\"_blank\">https://wandb.ai/devansh-kantesaria-iiit-hyderabad/smai-m24-assignments/runs/z3vuti8o</a>"
      ],
      "text/plain": [
       "<IPython.core.display.HTML object>"
      ]
     },
     "metadata": {},
     "output_type": "display_data"
    },
    {
     "data": {
      "text/html": [
       "<style>\n",
       "    table.wandb td:nth-child(1) { padding: 0 10px; text-align: left ; width: auto;} td:nth-child(2) {text-align: left ; width: 100%}\n",
       "    .wandb-row { display: flex; flex-direction: row; flex-wrap: wrap; justify-content: flex-start; width: 100% }\n",
       "    .wandb-col { display: flex; flex-direction: column; flex-basis: 100%; flex: 1; padding: 10px; }\n",
       "    </style>\n",
       "<div class=\"wandb-row\"><div class=\"wandb-col\"><h3>Run history:</h3><br/><table class=\"wandb\"><tr><td>epoch</td><td>▁▃▅▆█</td></tr><tr><td>train_loss</td><td>█▇▄▂▁</td></tr><tr><td>val_accuracy</td><td>▁▄▅▆█</td></tr><tr><td>val_hamming_accuracy</td><td>█▇▁▂▁</td></tr><tr><td>val_loss</td><td>█▆▃▁▂</td></tr></table><br/></div><div class=\"wandb-col\"><h3>Run summary:</h3><br/><table class=\"wandb\"><tr><td>epoch</td><td>5</td></tr><tr><td>train_loss</td><td>5.93982</td></tr><tr><td>val_accuracy</td><td>11.0557</td></tr><tr><td>val_hamming_accuracy</td><td>0.55132</td></tr><tr><td>val_loss</td><td>6.42917</td></tr></table><br/></div></div>"
      ],
      "text/plain": [
       "<IPython.core.display.HTML object>"
      ]
     },
     "metadata": {},
     "output_type": "display_data"
    },
    {
     "data": {
      "text/html": [
       " View run <strong style=\"color:#cdcd00\">frosty-haze-6</strong> at: <a href='https://wandb.ai/devansh-kantesaria-iiit-hyderabad/smai-m24-assignments/runs/z3vuti8o' target=\"_blank\">https://wandb.ai/devansh-kantesaria-iiit-hyderabad/smai-m24-assignments/runs/z3vuti8o</a><br/> View project at: <a href='https://wandb.ai/devansh-kantesaria-iiit-hyderabad/smai-m24-assignments' target=\"_blank\">https://wandb.ai/devansh-kantesaria-iiit-hyderabad/smai-m24-assignments</a><br/>Synced 5 W&B file(s), 0 media file(s), 0 artifact file(s) and 0 other file(s)"
      ],
      "text/plain": [
       "<IPython.core.display.HTML object>"
      ]
     },
     "metadata": {},
     "output_type": "display_data"
    },
    {
     "data": {
      "text/html": [
       "Find logs at: <code>.\\wandb\\run-20241103_125628-z3vuti8o\\logs</code>"
      ],
      "text/plain": [
       "<IPython.core.display.HTML object>"
      ]
     },
     "metadata": {},
     "output_type": "display_data"
    },
    {
     "data": {
      "text/html": [
       "Tracking run with wandb version 0.18.3"
      ],
      "text/plain": [
       "<IPython.core.display.HTML object>"
      ]
     },
     "metadata": {},
     "output_type": "display_data"
    },
    {
     "data": {
      "text/html": [
       "Run data is saved locally in <code>c:\\Users\\devan\\OneDrive - International Institute of Information Technology\\Desktop\\Year3_Sem1\\SMAI\\Assignment 1\\smai-m24-assignments\\assignments\\4\\wandb\\run-20241103_130120-lv4cglyc</code>"
      ],
      "text/plain": [
       "<IPython.core.display.HTML object>"
      ]
     },
     "metadata": {},
     "output_type": "display_data"
    },
    {
     "data": {
      "text/html": [
       "Syncing run <strong><a href='https://wandb.ai/devansh-kantesaria-iiit-hyderabad/smai-m24-assignments/runs/lv4cglyc' target=\"_blank\">elated-forest-7</a></strong> to <a href='https://wandb.ai/devansh-kantesaria-iiit-hyderabad/smai-m24-assignments' target=\"_blank\">Weights & Biases</a> (<a href='https://wandb.me/run' target=\"_blank\">docs</a>)<br/>"
      ],
      "text/plain": [
       "<IPython.core.display.HTML object>"
      ]
     },
     "metadata": {},
     "output_type": "display_data"
    },
    {
     "data": {
      "text/html": [
       " View project at <a href='https://wandb.ai/devansh-kantesaria-iiit-hyderabad/smai-m24-assignments' target=\"_blank\">https://wandb.ai/devansh-kantesaria-iiit-hyderabad/smai-m24-assignments</a>"
      ],
      "text/plain": [
       "<IPython.core.display.HTML object>"
      ]
     },
     "metadata": {},
     "output_type": "display_data"
    },
    {
     "data": {
      "text/html": [
       " View run at <a href='https://wandb.ai/devansh-kantesaria-iiit-hyderabad/smai-m24-assignments/runs/lv4cglyc' target=\"_blank\">https://wandb.ai/devansh-kantesaria-iiit-hyderabad/smai-m24-assignments/runs/lv4cglyc</a>"
      ],
      "text/plain": [
       "<IPython.core.display.HTML object>"
      ]
     },
     "metadata": {},
     "output_type": "display_data"
    },
    {
     "data": {
      "text/html": [
       "<style>\n",
       "    table.wandb td:nth-child(1) { padding: 0 10px; text-align: left ; width: auto;} td:nth-child(2) {text-align: left ; width: 100%}\n",
       "    .wandb-row { display: flex; flex-direction: row; flex-wrap: wrap; justify-content: flex-start; width: 100% }\n",
       "    .wandb-col { display: flex; flex-direction: column; flex-basis: 100%; flex: 1; padding: 10px; }\n",
       "    </style>\n",
       "<div class=\"wandb-row\"><div class=\"wandb-col\"><h3>Run history:</h3><br/><table class=\"wandb\"><tr><td>epoch</td><td>▁▃▅▆█</td></tr><tr><td>train_loss</td><td>█▅▃▂▁</td></tr><tr><td>val_accuracy</td><td>▁▅▆▇█</td></tr><tr><td>val_hamming_accuracy</td><td>▁▆▇██</td></tr><tr><td>val_loss</td><td>█▁▁▁▄</td></tr></table><br/></div><div class=\"wandb-col\"><h3>Run summary:</h3><br/><table class=\"wandb\"><tr><td>epoch</td><td>5</td></tr><tr><td>train_loss</td><td>2.58911</td></tr><tr><td>val_accuracy</td><td>35.94489</td></tr><tr><td>val_hamming_accuracy</td><td>0.80552</td></tr><tr><td>val_loss</td><td>5.74415</td></tr></table><br/></div></div>"
      ],
      "text/plain": [
       "<IPython.core.display.HTML object>"
      ]
     },
     "metadata": {},
     "output_type": "display_data"
    },
    {
     "data": {
      "text/html": [
       " View run <strong style=\"color:#cdcd00\">elated-forest-7</strong> at: <a href='https://wandb.ai/devansh-kantesaria-iiit-hyderabad/smai-m24-assignments/runs/lv4cglyc' target=\"_blank\">https://wandb.ai/devansh-kantesaria-iiit-hyderabad/smai-m24-assignments/runs/lv4cglyc</a><br/> View project at: <a href='https://wandb.ai/devansh-kantesaria-iiit-hyderabad/smai-m24-assignments' target=\"_blank\">https://wandb.ai/devansh-kantesaria-iiit-hyderabad/smai-m24-assignments</a><br/>Synced 5 W&B file(s), 0 media file(s), 0 artifact file(s) and 0 other file(s)"
      ],
      "text/plain": [
       "<IPython.core.display.HTML object>"
      ]
     },
     "metadata": {},
     "output_type": "display_data"
    },
    {
     "data": {
      "text/html": [
       "Find logs at: <code>.\\wandb\\run-20241103_130120-lv4cglyc\\logs</code>"
      ],
      "text/plain": [
       "<IPython.core.display.HTML object>"
      ]
     },
     "metadata": {},
     "output_type": "display_data"
    },
    {
     "data": {
      "text/html": [
       "Tracking run with wandb version 0.18.3"
      ],
      "text/plain": [
       "<IPython.core.display.HTML object>"
      ]
     },
     "metadata": {},
     "output_type": "display_data"
    },
    {
     "data": {
      "text/html": [
       "Run data is saved locally in <code>c:\\Users\\devan\\OneDrive - International Institute of Information Technology\\Desktop\\Year3_Sem1\\SMAI\\Assignment 1\\smai-m24-assignments\\assignments\\4\\wandb\\run-20241103_130740-s66ndjet</code>"
      ],
      "text/plain": [
       "<IPython.core.display.HTML object>"
      ]
     },
     "metadata": {},
     "output_type": "display_data"
    },
    {
     "data": {
      "text/html": [
       "Syncing run <strong><a href='https://wandb.ai/devansh-kantesaria-iiit-hyderabad/smai-m24-assignments/runs/s66ndjet' target=\"_blank\">true-meadow-8</a></strong> to <a href='https://wandb.ai/devansh-kantesaria-iiit-hyderabad/smai-m24-assignments' target=\"_blank\">Weights & Biases</a> (<a href='https://wandb.me/run' target=\"_blank\">docs</a>)<br/>"
      ],
      "text/plain": [
       "<IPython.core.display.HTML object>"
      ]
     },
     "metadata": {},
     "output_type": "display_data"
    },
    {
     "data": {
      "text/html": [
       " View project at <a href='https://wandb.ai/devansh-kantesaria-iiit-hyderabad/smai-m24-assignments' target=\"_blank\">https://wandb.ai/devansh-kantesaria-iiit-hyderabad/smai-m24-assignments</a>"
      ],
      "text/plain": [
       "<IPython.core.display.HTML object>"
      ]
     },
     "metadata": {},
     "output_type": "display_data"
    },
    {
     "data": {
      "text/html": [
       " View run at <a href='https://wandb.ai/devansh-kantesaria-iiit-hyderabad/smai-m24-assignments/runs/s66ndjet' target=\"_blank\">https://wandb.ai/devansh-kantesaria-iiit-hyderabad/smai-m24-assignments/runs/s66ndjet</a>"
      ],
      "text/plain": [
       "<IPython.core.display.HTML object>"
      ]
     },
     "metadata": {},
     "output_type": "display_data"
    },
    {
     "data": {
      "text/html": [
       "<style>\n",
       "    table.wandb td:nth-child(1) { padding: 0 10px; text-align: left ; width: auto;} td:nth-child(2) {text-align: left ; width: 100%}\n",
       "    .wandb-row { display: flex; flex-direction: row; flex-wrap: wrap; justify-content: flex-start; width: 100% }\n",
       "    .wandb-col { display: flex; flex-direction: column; flex-basis: 100%; flex: 1; padding: 10px; }\n",
       "    </style>\n",
       "<div class=\"wandb-row\"><div class=\"wandb-col\"><h3>Run history:</h3><br/><table class=\"wandb\"><tr><td>epoch</td><td>▁▃▅▆█</td></tr><tr><td>train_loss</td><td>█▇▇▄▁</td></tr><tr><td>val_accuracy</td><td>▃▁▄▅█</td></tr><tr><td>val_hamming_accuracy</td><td>▇▇█▂▁</td></tr><tr><td>val_loss</td><td>▇█▆▃▁</td></tr></table><br/></div><div class=\"wandb-col\"><h3>Run summary:</h3><br/><table class=\"wandb\"><tr><td>epoch</td><td>5</td></tr><tr><td>train_loss</td><td>5.97988</td></tr><tr><td>val_accuracy</td><td>11.1185</td></tr><tr><td>val_hamming_accuracy</td><td>0.55863</td></tr><tr><td>val_loss</td><td>6.34463</td></tr></table><br/></div></div>"
      ],
      "text/plain": [
       "<IPython.core.display.HTML object>"
      ]
     },
     "metadata": {},
     "output_type": "display_data"
    },
    {
     "data": {
      "text/html": [
       " View run <strong style=\"color:#cdcd00\">true-meadow-8</strong> at: <a href='https://wandb.ai/devansh-kantesaria-iiit-hyderabad/smai-m24-assignments/runs/s66ndjet' target=\"_blank\">https://wandb.ai/devansh-kantesaria-iiit-hyderabad/smai-m24-assignments/runs/s66ndjet</a><br/> View project at: <a href='https://wandb.ai/devansh-kantesaria-iiit-hyderabad/smai-m24-assignments' target=\"_blank\">https://wandb.ai/devansh-kantesaria-iiit-hyderabad/smai-m24-assignments</a><br/>Synced 5 W&B file(s), 0 media file(s), 0 artifact file(s) and 0 other file(s)"
      ],
      "text/plain": [
       "<IPython.core.display.HTML object>"
      ]
     },
     "metadata": {},
     "output_type": "display_data"
    },
    {
     "data": {
      "text/html": [
       "Find logs at: <code>.\\wandb\\run-20241103_130740-s66ndjet\\logs</code>"
      ],
      "text/plain": [
       "<IPython.core.display.HTML object>"
      ]
     },
     "metadata": {},
     "output_type": "display_data"
    },
    {
     "data": {
      "text/html": [
       "Tracking run with wandb version 0.18.3"
      ],
      "text/plain": [
       "<IPython.core.display.HTML object>"
      ]
     },
     "metadata": {},
     "output_type": "display_data"
    },
    {
     "data": {
      "text/html": [
       "Run data is saved locally in <code>c:\\Users\\devan\\OneDrive - International Institute of Information Technology\\Desktop\\Year3_Sem1\\SMAI\\Assignment 1\\smai-m24-assignments\\assignments\\4\\wandb\\run-20241103_131255-v0qroowv</code>"
      ],
      "text/plain": [
       "<IPython.core.display.HTML object>"
      ]
     },
     "metadata": {},
     "output_type": "display_data"
    },
    {
     "data": {
      "text/html": [
       "Syncing run <strong><a href='https://wandb.ai/devansh-kantesaria-iiit-hyderabad/smai-m24-assignments/runs/v0qroowv' target=\"_blank\">snowy-hill-9</a></strong> to <a href='https://wandb.ai/devansh-kantesaria-iiit-hyderabad/smai-m24-assignments' target=\"_blank\">Weights & Biases</a> (<a href='https://wandb.me/run' target=\"_blank\">docs</a>)<br/>"
      ],
      "text/plain": [
       "<IPython.core.display.HTML object>"
      ]
     },
     "metadata": {},
     "output_type": "display_data"
    },
    {
     "data": {
      "text/html": [
       " View project at <a href='https://wandb.ai/devansh-kantesaria-iiit-hyderabad/smai-m24-assignments' target=\"_blank\">https://wandb.ai/devansh-kantesaria-iiit-hyderabad/smai-m24-assignments</a>"
      ],
      "text/plain": [
       "<IPython.core.display.HTML object>"
      ]
     },
     "metadata": {},
     "output_type": "display_data"
    },
    {
     "data": {
      "text/html": [
       " View run at <a href='https://wandb.ai/devansh-kantesaria-iiit-hyderabad/smai-m24-assignments/runs/v0qroowv' target=\"_blank\">https://wandb.ai/devansh-kantesaria-iiit-hyderabad/smai-m24-assignments/runs/v0qroowv</a>"
      ],
      "text/plain": [
       "<IPython.core.display.HTML object>"
      ]
     },
     "metadata": {},
     "output_type": "display_data"
    },
    {
     "data": {
      "text/html": [
       "<style>\n",
       "    table.wandb td:nth-child(1) { padding: 0 10px; text-align: left ; width: auto;} td:nth-child(2) {text-align: left ; width: 100%}\n",
       "    .wandb-row { display: flex; flex-direction: row; flex-wrap: wrap; justify-content: flex-start; width: 100% }\n",
       "    .wandb-col { display: flex; flex-direction: column; flex-basis: 100%; flex: 1; padding: 10px; }\n",
       "    </style>\n",
       "<div class=\"wandb-row\"><div class=\"wandb-col\"><h3>Run history:</h3><br/><table class=\"wandb\"><tr><td>epoch</td><td>▁▃▅▆█</td></tr><tr><td>train_loss</td><td>█▄▂▁▁</td></tr><tr><td>val_accuracy</td><td>▁▆▇▇█</td></tr><tr><td>val_hamming_accuracy</td><td>▁▆▇▇█</td></tr><tr><td>val_loss</td><td>█▃▁▁▁</td></tr></table><br/></div><div class=\"wandb-col\"><h3>Run summary:</h3><br/><table class=\"wandb\"><tr><td>epoch</td><td>5</td></tr><tr><td>train_loss</td><td>2.04557</td></tr><tr><td>val_accuracy</td><td>55.57772</td></tr><tr><td>val_hamming_accuracy</td><td>0.87108</td></tr><tr><td>val_loss</td><td>3.62182</td></tr></table><br/></div></div>"
      ],
      "text/plain": [
       "<IPython.core.display.HTML object>"
      ]
     },
     "metadata": {},
     "output_type": "display_data"
    },
    {
     "data": {
      "text/html": [
       " View run <strong style=\"color:#cdcd00\">snowy-hill-9</strong> at: <a href='https://wandb.ai/devansh-kantesaria-iiit-hyderabad/smai-m24-assignments/runs/v0qroowv' target=\"_blank\">https://wandb.ai/devansh-kantesaria-iiit-hyderabad/smai-m24-assignments/runs/v0qroowv</a><br/> View project at: <a href='https://wandb.ai/devansh-kantesaria-iiit-hyderabad/smai-m24-assignments' target=\"_blank\">https://wandb.ai/devansh-kantesaria-iiit-hyderabad/smai-m24-assignments</a><br/>Synced 5 W&B file(s), 0 media file(s), 0 artifact file(s) and 0 other file(s)"
      ],
      "text/plain": [
       "<IPython.core.display.HTML object>"
      ]
     },
     "metadata": {},
     "output_type": "display_data"
    },
    {
     "data": {
      "text/html": [
       "Find logs at: <code>.\\wandb\\run-20241103_131255-v0qroowv\\logs</code>"
      ],
      "text/plain": [
       "<IPython.core.display.HTML object>"
      ]
     },
     "metadata": {},
     "output_type": "display_data"
    },
    {
     "data": {
      "text/html": [
       "Tracking run with wandb version 0.18.3"
      ],
      "text/plain": [
       "<IPython.core.display.HTML object>"
      ]
     },
     "metadata": {},
     "output_type": "display_data"
    },
    {
     "data": {
      "text/html": [
       "Run data is saved locally in <code>c:\\Users\\devan\\OneDrive - International Institute of Information Technology\\Desktop\\Year3_Sem1\\SMAI\\Assignment 1\\smai-m24-assignments\\assignments\\4\\wandb\\run-20241103_131814-cpuum1a0</code>"
      ],
      "text/plain": [
       "<IPython.core.display.HTML object>"
      ]
     },
     "metadata": {},
     "output_type": "display_data"
    },
    {
     "data": {
      "text/html": [
       "Syncing run <strong><a href='https://wandb.ai/devansh-kantesaria-iiit-hyderabad/smai-m24-assignments/runs/cpuum1a0' target=\"_blank\">electric-gorge-10</a></strong> to <a href='https://wandb.ai/devansh-kantesaria-iiit-hyderabad/smai-m24-assignments' target=\"_blank\">Weights & Biases</a> (<a href='https://wandb.me/run' target=\"_blank\">docs</a>)<br/>"
      ],
      "text/plain": [
       "<IPython.core.display.HTML object>"
      ]
     },
     "metadata": {},
     "output_type": "display_data"
    },
    {
     "data": {
      "text/html": [
       " View project at <a href='https://wandb.ai/devansh-kantesaria-iiit-hyderabad/smai-m24-assignments' target=\"_blank\">https://wandb.ai/devansh-kantesaria-iiit-hyderabad/smai-m24-assignments</a>"
      ],
      "text/plain": [
       "<IPython.core.display.HTML object>"
      ]
     },
     "metadata": {},
     "output_type": "display_data"
    },
    {
     "data": {
      "text/html": [
       " View run at <a href='https://wandb.ai/devansh-kantesaria-iiit-hyderabad/smai-m24-assignments/runs/cpuum1a0' target=\"_blank\">https://wandb.ai/devansh-kantesaria-iiit-hyderabad/smai-m24-assignments/runs/cpuum1a0</a>"
      ],
      "text/plain": [
       "<IPython.core.display.HTML object>"
      ]
     },
     "metadata": {},
     "output_type": "display_data"
    },
    {
     "data": {
      "text/html": [
       "<style>\n",
       "    table.wandb td:nth-child(1) { padding: 0 10px; text-align: left ; width: auto;} td:nth-child(2) {text-align: left ; width: 100%}\n",
       "    .wandb-row { display: flex; flex-direction: row; flex-wrap: wrap; justify-content: flex-start; width: 100% }\n",
       "    .wandb-col { display: flex; flex-direction: column; flex-basis: 100%; flex: 1; padding: 10px; }\n",
       "    </style>\n",
       "<div class=\"wandb-row\"><div class=\"wandb-col\"><h3>Run history:</h3><br/><table class=\"wandb\"><tr><td>epoch</td><td>▁▃▅▆█</td></tr><tr><td>train_loss</td><td>█▇▅▃▁</td></tr><tr><td>val_accuracy</td><td>▄▁▃██</td></tr><tr><td>val_hamming_accuracy</td><td>█▅▂▁▁</td></tr><tr><td>val_loss</td><td>█▆▃▁▂</td></tr></table><br/></div><div class=\"wandb-col\"><h3>Run summary:</h3><br/><table class=\"wandb\"><tr><td>epoch</td><td>5</td></tr><tr><td>train_loss</td><td>5.95124</td></tr><tr><td>val_accuracy</td><td>10.17287</td></tr><tr><td>val_hamming_accuracy</td><td>0.55277</td></tr><tr><td>val_loss</td><td>6.44346</td></tr></table><br/></div></div>"
      ],
      "text/plain": [
       "<IPython.core.display.HTML object>"
      ]
     },
     "metadata": {},
     "output_type": "display_data"
    },
    {
     "data": {
      "text/html": [
       " View run <strong style=\"color:#cdcd00\">electric-gorge-10</strong> at: <a href='https://wandb.ai/devansh-kantesaria-iiit-hyderabad/smai-m24-assignments/runs/cpuum1a0' target=\"_blank\">https://wandb.ai/devansh-kantesaria-iiit-hyderabad/smai-m24-assignments/runs/cpuum1a0</a><br/> View project at: <a href='https://wandb.ai/devansh-kantesaria-iiit-hyderabad/smai-m24-assignments' target=\"_blank\">https://wandb.ai/devansh-kantesaria-iiit-hyderabad/smai-m24-assignments</a><br/>Synced 5 W&B file(s), 0 media file(s), 0 artifact file(s) and 0 other file(s)"
      ],
      "text/plain": [
       "<IPython.core.display.HTML object>"
      ]
     },
     "metadata": {},
     "output_type": "display_data"
    },
    {
     "data": {
      "text/html": [
       "Find logs at: <code>.\\wandb\\run-20241103_131814-cpuum1a0\\logs</code>"
      ],
      "text/plain": [
       "<IPython.core.display.HTML object>"
      ]
     },
     "metadata": {},
     "output_type": "display_data"
    },
    {
     "data": {
      "text/html": [
       "Tracking run with wandb version 0.18.3"
      ],
      "text/plain": [
       "<IPython.core.display.HTML object>"
      ]
     },
     "metadata": {},
     "output_type": "display_data"
    },
    {
     "data": {
      "text/html": [
       "Run data is saved locally in <code>c:\\Users\\devan\\OneDrive - International Institute of Information Technology\\Desktop\\Year3_Sem1\\SMAI\\Assignment 1\\smai-m24-assignments\\assignments\\4\\wandb\\run-20241103_132242-oq2hym6l</code>"
      ],
      "text/plain": [
       "<IPython.core.display.HTML object>"
      ]
     },
     "metadata": {},
     "output_type": "display_data"
    },
    {
     "data": {
      "text/html": [
       "Syncing run <strong><a href='https://wandb.ai/devansh-kantesaria-iiit-hyderabad/smai-m24-assignments/runs/oq2hym6l' target=\"_blank\">noble-smoke-11</a></strong> to <a href='https://wandb.ai/devansh-kantesaria-iiit-hyderabad/smai-m24-assignments' target=\"_blank\">Weights & Biases</a> (<a href='https://wandb.me/run' target=\"_blank\">docs</a>)<br/>"
      ],
      "text/plain": [
       "<IPython.core.display.HTML object>"
      ]
     },
     "metadata": {},
     "output_type": "display_data"
    },
    {
     "data": {
      "text/html": [
       " View project at <a href='https://wandb.ai/devansh-kantesaria-iiit-hyderabad/smai-m24-assignments' target=\"_blank\">https://wandb.ai/devansh-kantesaria-iiit-hyderabad/smai-m24-assignments</a>"
      ],
      "text/plain": [
       "<IPython.core.display.HTML object>"
      ]
     },
     "metadata": {},
     "output_type": "display_data"
    },
    {
     "data": {
      "text/html": [
       " View run at <a href='https://wandb.ai/devansh-kantesaria-iiit-hyderabad/smai-m24-assignments/runs/oq2hym6l' target=\"_blank\">https://wandb.ai/devansh-kantesaria-iiit-hyderabad/smai-m24-assignments/runs/oq2hym6l</a>"
      ],
      "text/plain": [
       "<IPython.core.display.HTML object>"
      ]
     },
     "metadata": {},
     "output_type": "display_data"
    },
    {
     "data": {
      "text/html": [
       "<style>\n",
       "    table.wandb td:nth-child(1) { padding: 0 10px; text-align: left ; width: auto;} td:nth-child(2) {text-align: left ; width: 100%}\n",
       "    .wandb-row { display: flex; flex-direction: row; flex-wrap: wrap; justify-content: flex-start; width: 100% }\n",
       "    .wandb-col { display: flex; flex-direction: column; flex-basis: 100%; flex: 1; padding: 10px; }\n",
       "    </style>\n",
       "<div class=\"wandb-row\"><div class=\"wandb-col\"><h3>Run history:</h3><br/><table class=\"wandb\"><tr><td>epoch</td><td>▁▃▅▆█</td></tr><tr><td>train_loss</td><td>█▆▄▂▁</td></tr><tr><td>val_accuracy</td><td>▁▄▆██</td></tr><tr><td>val_hamming_accuracy</td><td>▁▂▅██</td></tr><tr><td>val_loss</td><td>█▅▁▁▁</td></tr></table><br/></div><div class=\"wandb-col\"><h3>Run summary:</h3><br/><table class=\"wandb\"><tr><td>epoch</td><td>5</td></tr><tr><td>train_loss</td><td>2.81898</td></tr><tr><td>val_accuracy</td><td>32.66475</td></tr><tr><td>val_hamming_accuracy</td><td>0.77327</td></tr><tr><td>val_loss</td><td>5.54202</td></tr></table><br/></div></div>"
      ],
      "text/plain": [
       "<IPython.core.display.HTML object>"
      ]
     },
     "metadata": {},
     "output_type": "display_data"
    },
    {
     "data": {
      "text/html": [
       " View run <strong style=\"color:#cdcd00\">noble-smoke-11</strong> at: <a href='https://wandb.ai/devansh-kantesaria-iiit-hyderabad/smai-m24-assignments/runs/oq2hym6l' target=\"_blank\">https://wandb.ai/devansh-kantesaria-iiit-hyderabad/smai-m24-assignments/runs/oq2hym6l</a><br/> View project at: <a href='https://wandb.ai/devansh-kantesaria-iiit-hyderabad/smai-m24-assignments' target=\"_blank\">https://wandb.ai/devansh-kantesaria-iiit-hyderabad/smai-m24-assignments</a><br/>Synced 5 W&B file(s), 0 media file(s), 0 artifact file(s) and 0 other file(s)"
      ],
      "text/plain": [
       "<IPython.core.display.HTML object>"
      ]
     },
     "metadata": {},
     "output_type": "display_data"
    },
    {
     "data": {
      "text/html": [
       "Find logs at: <code>.\\wandb\\run-20241103_132242-oq2hym6l\\logs</code>"
      ],
      "text/plain": [
       "<IPython.core.display.HTML object>"
      ]
     },
     "metadata": {},
     "output_type": "display_data"
    },
    {
     "data": {
      "text/html": [
       "Tracking run with wandb version 0.18.3"
      ],
      "text/plain": [
       "<IPython.core.display.HTML object>"
      ]
     },
     "metadata": {},
     "output_type": "display_data"
    },
    {
     "data": {
      "text/html": [
       "Run data is saved locally in <code>c:\\Users\\devan\\OneDrive - International Institute of Information Technology\\Desktop\\Year3_Sem1\\SMAI\\Assignment 1\\smai-m24-assignments\\assignments\\4\\wandb\\run-20241103_132731-wl6oolyb</code>"
      ],
      "text/plain": [
       "<IPython.core.display.HTML object>"
      ]
     },
     "metadata": {},
     "output_type": "display_data"
    },
    {
     "data": {
      "text/html": [
       "Syncing run <strong><a href='https://wandb.ai/devansh-kantesaria-iiit-hyderabad/smai-m24-assignments/runs/wl6oolyb' target=\"_blank\">azure-totem-12</a></strong> to <a href='https://wandb.ai/devansh-kantesaria-iiit-hyderabad/smai-m24-assignments' target=\"_blank\">Weights & Biases</a> (<a href='https://wandb.me/run' target=\"_blank\">docs</a>)<br/>"
      ],
      "text/plain": [
       "<IPython.core.display.HTML object>"
      ]
     },
     "metadata": {},
     "output_type": "display_data"
    },
    {
     "data": {
      "text/html": [
       " View project at <a href='https://wandb.ai/devansh-kantesaria-iiit-hyderabad/smai-m24-assignments' target=\"_blank\">https://wandb.ai/devansh-kantesaria-iiit-hyderabad/smai-m24-assignments</a>"
      ],
      "text/plain": [
       "<IPython.core.display.HTML object>"
      ]
     },
     "metadata": {},
     "output_type": "display_data"
    },
    {
     "data": {
      "text/html": [
       " View run at <a href='https://wandb.ai/devansh-kantesaria-iiit-hyderabad/smai-m24-assignments/runs/wl6oolyb' target=\"_blank\">https://wandb.ai/devansh-kantesaria-iiit-hyderabad/smai-m24-assignments/runs/wl6oolyb</a>"
      ],
      "text/plain": [
       "<IPython.core.display.HTML object>"
      ]
     },
     "metadata": {},
     "output_type": "display_data"
    },
    {
     "data": {
      "text/html": [
       "<style>\n",
       "    table.wandb td:nth-child(1) { padding: 0 10px; text-align: left ; width: auto;} td:nth-child(2) {text-align: left ; width: 100%}\n",
       "    .wandb-row { display: flex; flex-direction: row; flex-wrap: wrap; justify-content: flex-start; width: 100% }\n",
       "    .wandb-col { display: flex; flex-direction: column; flex-basis: 100%; flex: 1; padding: 10px; }\n",
       "    </style>\n",
       "<div class=\"wandb-row\"><div class=\"wandb-col\"><h3>Run history:</h3><br/><table class=\"wandb\"><tr><td>epoch</td><td>▁▃▅▆█</td></tr><tr><td>train_loss</td><td>█▇▆▆▁</td></tr><tr><td>val_accuracy</td><td>█▆▇▁█</td></tr><tr><td>val_hamming_accuracy</td><td>▆█▂▆▁</td></tr><tr><td>val_loss</td><td>█▇█▇▁</td></tr></table><br/></div><div class=\"wandb-col\"><h3>Run summary:</h3><br/><table class=\"wandb\"><tr><td>epoch</td><td>5</td></tr><tr><td>train_loss</td><td>6.36336</td></tr><tr><td>val_accuracy</td><td>6.59722</td></tr><tr><td>val_hamming_accuracy</td><td>0.68467</td></tr><tr><td>val_loss</td><td>6.58253</td></tr></table><br/></div></div>"
      ],
      "text/plain": [
       "<IPython.core.display.HTML object>"
      ]
     },
     "metadata": {},
     "output_type": "display_data"
    },
    {
     "data": {
      "text/html": [
       " View run <strong style=\"color:#cdcd00\">azure-totem-12</strong> at: <a href='https://wandb.ai/devansh-kantesaria-iiit-hyderabad/smai-m24-assignments/runs/wl6oolyb' target=\"_blank\">https://wandb.ai/devansh-kantesaria-iiit-hyderabad/smai-m24-assignments/runs/wl6oolyb</a><br/> View project at: <a href='https://wandb.ai/devansh-kantesaria-iiit-hyderabad/smai-m24-assignments' target=\"_blank\">https://wandb.ai/devansh-kantesaria-iiit-hyderabad/smai-m24-assignments</a><br/>Synced 5 W&B file(s), 0 media file(s), 0 artifact file(s) and 0 other file(s)"
      ],
      "text/plain": [
       "<IPython.core.display.HTML object>"
      ]
     },
     "metadata": {},
     "output_type": "display_data"
    },
    {
     "data": {
      "text/html": [
       "Find logs at: <code>.\\wandb\\run-20241103_132731-wl6oolyb\\logs</code>"
      ],
      "text/plain": [
       "<IPython.core.display.HTML object>"
      ]
     },
     "metadata": {},
     "output_type": "display_data"
    },
    {
     "data": {
      "text/html": [
       "Tracking run with wandb version 0.18.3"
      ],
      "text/plain": [
       "<IPython.core.display.HTML object>"
      ]
     },
     "metadata": {},
     "output_type": "display_data"
    },
    {
     "data": {
      "text/html": [
       "Run data is saved locally in <code>c:\\Users\\devan\\OneDrive - International Institute of Information Technology\\Desktop\\Year3_Sem1\\SMAI\\Assignment 1\\smai-m24-assignments\\assignments\\4\\wandb\\run-20241103_133251-07lrljav</code>"
      ],
      "text/plain": [
       "<IPython.core.display.HTML object>"
      ]
     },
     "metadata": {},
     "output_type": "display_data"
    },
    {
     "data": {
      "text/html": [
       "Syncing run <strong><a href='https://wandb.ai/devansh-kantesaria-iiit-hyderabad/smai-m24-assignments/runs/07lrljav' target=\"_blank\">soft-snow-13</a></strong> to <a href='https://wandb.ai/devansh-kantesaria-iiit-hyderabad/smai-m24-assignments' target=\"_blank\">Weights & Biases</a> (<a href='https://wandb.me/run' target=\"_blank\">docs</a>)<br/>"
      ],
      "text/plain": [
       "<IPython.core.display.HTML object>"
      ]
     },
     "metadata": {},
     "output_type": "display_data"
    },
    {
     "data": {
      "text/html": [
       " View project at <a href='https://wandb.ai/devansh-kantesaria-iiit-hyderabad/smai-m24-assignments' target=\"_blank\">https://wandb.ai/devansh-kantesaria-iiit-hyderabad/smai-m24-assignments</a>"
      ],
      "text/plain": [
       "<IPython.core.display.HTML object>"
      ]
     },
     "metadata": {},
     "output_type": "display_data"
    },
    {
     "data": {
      "text/html": [
       " View run at <a href='https://wandb.ai/devansh-kantesaria-iiit-hyderabad/smai-m24-assignments/runs/07lrljav' target=\"_blank\">https://wandb.ai/devansh-kantesaria-iiit-hyderabad/smai-m24-assignments/runs/07lrljav</a>"
      ],
      "text/plain": [
       "<IPython.core.display.HTML object>"
      ]
     },
     "metadata": {},
     "output_type": "display_data"
    },
    {
     "name": "stderr",
     "output_type": "stream",
     "text": [
      "Traceback (most recent call last):\n",
      "  File \"C:\\Users\\devan\\AppData\\Local\\Temp\\ipykernel_25320\\3268955498.py\", line 115, in <module>\n",
      "    accuracy = train_and_evaluate(current_params)\n",
      "               ^^^^^^^^^^^^^^^^^^^^^^^^^^^^^^^^^^\n",
      "  File \"C:\\Users\\devan\\AppData\\Local\\Temp\\ipykernel_25320\\3268955498.py\", line 61, in train_and_evaluate\n",
      "    loss.backward()\n",
      "  File \"c:\\Users\\devan\\AppData\\Local\\Programs\\Python\\Python312\\Lib\\site-packages\\torch\\_tensor.py\", line 581, in backward\n",
      "    torch.autograd.backward(\n",
      "  File \"c:\\Users\\devan\\AppData\\Local\\Programs\\Python\\Python312\\Lib\\site-packages\\torch\\autograd\\__init__.py\", line 347, in backward\n",
      "    _engine_run_backward(\n",
      "  File \"c:\\Users\\devan\\AppData\\Local\\Programs\\Python\\Python312\\Lib\\site-packages\\torch\\autograd\\graph.py\", line 825, in _engine_run_backward\n",
      "    return Variable._execution_engine.run_backward(  # Calls into the C++ engine to run the backward pass\n",
      "           ^^^^^^^^^^^^^^^^^^^^^^^^^^^^^^^^^^^^^^^^^^^^^^^^^^^^^^^^^^^^^^^^^^^^^^^^^^^^^^^^^^^^^^^^^^^^^^\n",
      "KeyboardInterrupt\n"
     ]
    },
    {
     "data": {
      "text/html": [
       "<style>\n",
       "    table.wandb td:nth-child(1) { padding: 0 10px; text-align: left ; width: auto;} td:nth-child(2) {text-align: left ; width: 100%}\n",
       "    .wandb-row { display: flex; flex-direction: row; flex-wrap: wrap; justify-content: flex-start; width: 100% }\n",
       "    .wandb-col { display: flex; flex-direction: column; flex-basis: 100%; flex: 1; padding: 10px; }\n",
       "    </style>\n",
       "<div class=\"wandb-row\"><div class=\"wandb-col\"><h3>Run history:</h3><br/><table class=\"wandb\"><tr><td>epoch</td><td>▁█</td></tr><tr><td>train_loss</td><td>█▁</td></tr><tr><td>val_accuracy</td><td>▁█</td></tr><tr><td>val_hamming_accuracy</td><td>▁█</td></tr><tr><td>val_loss</td><td>█▁</td></tr></table><br/></div><div class=\"wandb-col\"><h3>Run summary:</h3><br/><table class=\"wandb\"><tr><td>epoch</td><td>2</td></tr><tr><td>train_loss</td><td>3.50239</td></tr><tr><td>val_accuracy</td><td>50.08126</td></tr><tr><td>val_hamming_accuracy</td><td>0.85467</td></tr><tr><td>val_loss</td><td>3.88089</td></tr></table><br/></div></div>"
      ],
      "text/plain": [
       "<IPython.core.display.HTML object>"
      ]
     },
     "metadata": {},
     "output_type": "display_data"
    },
    {
     "data": {
      "text/html": [
       " View run <strong style=\"color:#cdcd00\">soft-snow-13</strong> at: <a href='https://wandb.ai/devansh-kantesaria-iiit-hyderabad/smai-m24-assignments/runs/07lrljav' target=\"_blank\">https://wandb.ai/devansh-kantesaria-iiit-hyderabad/smai-m24-assignments/runs/07lrljav</a><br/> View project at: <a href='https://wandb.ai/devansh-kantesaria-iiit-hyderabad/smai-m24-assignments' target=\"_blank\">https://wandb.ai/devansh-kantesaria-iiit-hyderabad/smai-m24-assignments</a><br/>Synced 5 W&B file(s), 0 media file(s), 0 artifact file(s) and 0 other file(s)"
      ],
      "text/plain": [
       "<IPython.core.display.HTML object>"
      ]
     },
     "metadata": {},
     "output_type": "display_data"
    },
    {
     "data": {
      "text/html": [
       "Find logs at: <code>.\\wandb\\run-20241103_133251-07lrljav\\logs</code>"
      ],
      "text/plain": [
       "<IPython.core.display.HTML object>"
      ]
     },
     "metadata": {},
     "output_type": "display_data"
    },
    {
     "ename": "KeyboardInterrupt",
     "evalue": "",
     "output_type": "error",
     "traceback": [
      "\u001b[1;31m---------------------------------------------------------------------------\u001b[0m",
      "\u001b[1;31mKeyboardInterrupt\u001b[0m                         Traceback (most recent call last)",
      "Cell \u001b[1;32mIn[9], line 115\u001b[0m\n\u001b[0;32m    113\u001b[0m \u001b[38;5;66;03m# Log this specific run in WandB\u001b[39;00m\n\u001b[0;32m    114\u001b[0m \u001b[38;5;28;01mwith\u001b[39;00m wandb\u001b[38;5;241m.\u001b[39minit(config\u001b[38;5;241m=\u001b[39mcurrent_params, reinit\u001b[38;5;241m=\u001b[39m\u001b[38;5;28;01mTrue\u001b[39;00m):\n\u001b[1;32m--> 115\u001b[0m     accuracy \u001b[38;5;241m=\u001b[39m \u001b[43mtrain_and_evaluate\u001b[49m\u001b[43m(\u001b[49m\u001b[43mcurrent_params\u001b[49m\u001b[43m)\u001b[49m\n\u001b[0;32m    117\u001b[0m     \u001b[38;5;28;01mif\u001b[39;00m accuracy \u001b[38;5;241m>\u001b[39m best_accuracy:\n\u001b[0;32m    118\u001b[0m         best_accuracy \u001b[38;5;241m=\u001b[39m accuracy\n",
      "Cell \u001b[1;32mIn[9], line 61\u001b[0m, in \u001b[0;36mtrain_and_evaluate\u001b[1;34m(hyperparams)\u001b[0m\n\u001b[0;32m     59\u001b[0m outputs \u001b[38;5;241m=\u001b[39m model(inputs)\n\u001b[0;32m     60\u001b[0m loss \u001b[38;5;241m=\u001b[39m loss_function(outputs, labels)\n\u001b[1;32m---> 61\u001b[0m \u001b[43mloss\u001b[49m\u001b[38;5;241;43m.\u001b[39;49m\u001b[43mbackward\u001b[49m\u001b[43m(\u001b[49m\u001b[43m)\u001b[49m\n\u001b[0;32m     62\u001b[0m optimizer\u001b[38;5;241m.\u001b[39mstep()\n\u001b[0;32m     63\u001b[0m train_loss \u001b[38;5;241m+\u001b[39m\u001b[38;5;241m=\u001b[39m loss\u001b[38;5;241m.\u001b[39mitem()\n",
      "File \u001b[1;32mc:\\Users\\devan\\AppData\\Local\\Programs\\Python\\Python312\\Lib\\site-packages\\torch\\_tensor.py:581\u001b[0m, in \u001b[0;36mTensor.backward\u001b[1;34m(self, gradient, retain_graph, create_graph, inputs)\u001b[0m\n\u001b[0;32m    571\u001b[0m \u001b[38;5;28;01mif\u001b[39;00m has_torch_function_unary(\u001b[38;5;28mself\u001b[39m):\n\u001b[0;32m    572\u001b[0m     \u001b[38;5;28;01mreturn\u001b[39;00m handle_torch_function(\n\u001b[0;32m    573\u001b[0m         Tensor\u001b[38;5;241m.\u001b[39mbackward,\n\u001b[0;32m    574\u001b[0m         (\u001b[38;5;28mself\u001b[39m,),\n\u001b[1;32m   (...)\u001b[0m\n\u001b[0;32m    579\u001b[0m         inputs\u001b[38;5;241m=\u001b[39minputs,\n\u001b[0;32m    580\u001b[0m     )\n\u001b[1;32m--> 581\u001b[0m \u001b[43mtorch\u001b[49m\u001b[38;5;241;43m.\u001b[39;49m\u001b[43mautograd\u001b[49m\u001b[38;5;241;43m.\u001b[39;49m\u001b[43mbackward\u001b[49m\u001b[43m(\u001b[49m\n\u001b[0;32m    582\u001b[0m \u001b[43m    \u001b[49m\u001b[38;5;28;43mself\u001b[39;49m\u001b[43m,\u001b[49m\u001b[43m \u001b[49m\u001b[43mgradient\u001b[49m\u001b[43m,\u001b[49m\u001b[43m \u001b[49m\u001b[43mretain_graph\u001b[49m\u001b[43m,\u001b[49m\u001b[43m \u001b[49m\u001b[43mcreate_graph\u001b[49m\u001b[43m,\u001b[49m\u001b[43m \u001b[49m\u001b[43minputs\u001b[49m\u001b[38;5;241;43m=\u001b[39;49m\u001b[43minputs\u001b[49m\n\u001b[0;32m    583\u001b[0m \u001b[43m\u001b[49m\u001b[43m)\u001b[49m\n",
      "File \u001b[1;32mc:\\Users\\devan\\AppData\\Local\\Programs\\Python\\Python312\\Lib\\site-packages\\torch\\autograd\\__init__.py:347\u001b[0m, in \u001b[0;36mbackward\u001b[1;34m(tensors, grad_tensors, retain_graph, create_graph, grad_variables, inputs)\u001b[0m\n\u001b[0;32m    342\u001b[0m     retain_graph \u001b[38;5;241m=\u001b[39m create_graph\n\u001b[0;32m    344\u001b[0m \u001b[38;5;66;03m# The reason we repeat the same comment below is that\u001b[39;00m\n\u001b[0;32m    345\u001b[0m \u001b[38;5;66;03m# some Python versions print out the first line of a multi-line function\u001b[39;00m\n\u001b[0;32m    346\u001b[0m \u001b[38;5;66;03m# calls in the traceback and some print out the last line\u001b[39;00m\n\u001b[1;32m--> 347\u001b[0m \u001b[43m_engine_run_backward\u001b[49m\u001b[43m(\u001b[49m\n\u001b[0;32m    348\u001b[0m \u001b[43m    \u001b[49m\u001b[43mtensors\u001b[49m\u001b[43m,\u001b[49m\n\u001b[0;32m    349\u001b[0m \u001b[43m    \u001b[49m\u001b[43mgrad_tensors_\u001b[49m\u001b[43m,\u001b[49m\n\u001b[0;32m    350\u001b[0m \u001b[43m    \u001b[49m\u001b[43mretain_graph\u001b[49m\u001b[43m,\u001b[49m\n\u001b[0;32m    351\u001b[0m \u001b[43m    \u001b[49m\u001b[43mcreate_graph\u001b[49m\u001b[43m,\u001b[49m\n\u001b[0;32m    352\u001b[0m \u001b[43m    \u001b[49m\u001b[43minputs\u001b[49m\u001b[43m,\u001b[49m\n\u001b[0;32m    353\u001b[0m \u001b[43m    \u001b[49m\u001b[43mallow_unreachable\u001b[49m\u001b[38;5;241;43m=\u001b[39;49m\u001b[38;5;28;43;01mTrue\u001b[39;49;00m\u001b[43m,\u001b[49m\n\u001b[0;32m    354\u001b[0m \u001b[43m    \u001b[49m\u001b[43maccumulate_grad\u001b[49m\u001b[38;5;241;43m=\u001b[39;49m\u001b[38;5;28;43;01mTrue\u001b[39;49;00m\u001b[43m,\u001b[49m\n\u001b[0;32m    355\u001b[0m \u001b[43m\u001b[49m\u001b[43m)\u001b[49m\n",
      "File \u001b[1;32mc:\\Users\\devan\\AppData\\Local\\Programs\\Python\\Python312\\Lib\\site-packages\\torch\\autograd\\graph.py:825\u001b[0m, in \u001b[0;36m_engine_run_backward\u001b[1;34m(t_outputs, *args, **kwargs)\u001b[0m\n\u001b[0;32m    823\u001b[0m     unregister_hooks \u001b[38;5;241m=\u001b[39m _register_logging_hooks_on_whole_graph(t_outputs)\n\u001b[0;32m    824\u001b[0m \u001b[38;5;28;01mtry\u001b[39;00m:\n\u001b[1;32m--> 825\u001b[0m     \u001b[38;5;28;01mreturn\u001b[39;00m \u001b[43mVariable\u001b[49m\u001b[38;5;241;43m.\u001b[39;49m\u001b[43m_execution_engine\u001b[49m\u001b[38;5;241;43m.\u001b[39;49m\u001b[43mrun_backward\u001b[49m\u001b[43m(\u001b[49m\u001b[43m  \u001b[49m\u001b[38;5;66;43;03m# Calls into the C++ engine to run the backward pass\u001b[39;49;00m\n\u001b[0;32m    826\u001b[0m \u001b[43m        \u001b[49m\u001b[43mt_outputs\u001b[49m\u001b[43m,\u001b[49m\u001b[43m \u001b[49m\u001b[38;5;241;43m*\u001b[39;49m\u001b[43margs\u001b[49m\u001b[43m,\u001b[49m\u001b[43m \u001b[49m\u001b[38;5;241;43m*\u001b[39;49m\u001b[38;5;241;43m*\u001b[39;49m\u001b[43mkwargs\u001b[49m\n\u001b[0;32m    827\u001b[0m \u001b[43m    \u001b[49m\u001b[43m)\u001b[49m  \u001b[38;5;66;03m# Calls into the C++ engine to run the backward pass\u001b[39;00m\n\u001b[0;32m    828\u001b[0m \u001b[38;5;28;01mfinally\u001b[39;00m:\n\u001b[0;32m    829\u001b[0m     \u001b[38;5;28;01mif\u001b[39;00m attach_logging_hooks:\n",
      "\u001b[1;31mKeyboardInterrupt\u001b[0m: "
     ]
    }
   ],
   "source": [
    "# import wandb\n",
    "# from torch.optim import SGD, Adam\n",
    "\n",
    "# # Initialize wandb\n",
    "# wandb.init(project=\"multilabel_cnn_hyperparameter_tuning\")\n",
    "\n",
    "# # Define hyperparameter search space\n",
    "# hyperparameter_space = {\n",
    "#     'learning_rate': [0.001, 0.01, 0.1],\n",
    "#     'epochs': [5, 10, 15],\n",
    "#     'dropout_rate': [0.2, 0.3, 0.5],\n",
    "#     'conv_layers': [\n",
    "#         [\n",
    "#             {'type': 'conv2d', 'out_channels': 32, 'kernel_size': 3, 'stride': 1, 'padding': 1, 'activation': 'relu'},\n",
    "#             {'type': 'pool', 'kernel_size': 2, 'pool_type': 'max'},\n",
    "#             {'type': 'conv2d', 'out_channels': 64, 'kernel_size': 3, 'stride': 1, 'padding': 1, 'activation': 'relu'},\n",
    "#             {'type': 'pool', 'kernel_size': 2, 'pool_type': 'max'},\n",
    "#         ],\n",
    "#         [\n",
    "#             {'type': 'conv2d', 'out_channels': 32, 'kernel_size': 3, 'stride': 1, 'padding': 1, 'activation': 'relu'},\n",
    "#             {'type': 'pool', 'kernel_size': 2, 'pool_type': 'max'},\n",
    "#             {'type': 'conv2d', 'out_channels': 64, 'kernel_size': 3, 'stride': 1, 'padding': 1, 'activation': 'relu'},\n",
    "#             {'type': 'pool', 'kernel_size': 2, 'pool_type': 'max'},\n",
    "#             {'type': 'conv2d', 'out_channels': 128, 'kernel_size': 3, 'stride': 1, 'padding': 1, 'activation': 'relu'},\n",
    "#             {'type': 'pool', 'kernel_size': 2, 'pool_type': 'max'},\n",
    "#         ],\n",
    "#     ],\n",
    "#     'optimizer': ['SGD', 'Adam']\n",
    "# }\n",
    "\n",
    "# # Define Hamming accuracy calculation function\n",
    "# def calculate_hamming_accuracy(predictions, labels):\n",
    "#     \"\"\"Calculates Hamming accuracy for multilabel predictions.\"\"\"\n",
    "#     predictions = (predictions > 0.5).float()  # Threshold at 0.5 for multilabel\n",
    "#     return (predictions == labels).float().mean().item()\n",
    "\n",
    "# # Define model training and evaluation with logging to WandB\n",
    "# def train_and_evaluate(hyperparams):\n",
    "#     # Initialize the model with the current hyperparameters\n",
    "#     model = MultiLabelCNN(\n",
    "#         layer_config=hyperparams['conv_layers'],\n",
    "#         input_channels=input_channels,\n",
    "#         input_size=input_size,\n",
    "#         max_classes=max_classes\n",
    "#     )\n",
    "    \n",
    "#     # Optimizer choice\n",
    "#     optimizer = SGD(model.parameters(), lr=hyperparams['learning_rate'], momentum=0.9) if hyperparams['optimizer'] == 'SGD' else Adam(model.parameters(), lr=hyperparams['learning_rate'])\n",
    "    \n",
    "#     # Loss function\n",
    "#     loss_function = nn.CrossEntropyLoss()\n",
    "    \n",
    "#     # Training and validation\n",
    "#     for epoch in range(hyperparams['epochs']):\n",
    "#         model.train()\n",
    "#         train_loss = 0.0\n",
    "#         for inputs, labels in train_loader:\n",
    "#             optimizer.zero_grad()\n",
    "#             outputs = model(inputs)\n",
    "#             loss = loss_function(outputs, labels)\n",
    "#             loss.backward()\n",
    "#             optimizer.step()\n",
    "#             train_loss += loss.item()\n",
    "\n",
    "#         # Validation phase\n",
    "#         model.eval()\n",
    "#         val_loss, total_accuracy, total_hamming_accuracy = 0.0, 0.0, 0.0\n",
    "#         with torch.no_grad():\n",
    "#             for inputs, labels in val_loader:\n",
    "#                 outputs = model(inputs)\n",
    "#                 loss = loss_function(outputs, labels)\n",
    "#                 val_loss += loss.item()\n",
    "#                 accuracy = MultiLabelCNN.calculate_accuracy(outputs, labels, model.fc2.out_features // 10)\n",
    "#                 hamming_accuracy = calculate_hamming_accuracy(outputs, labels)\n",
    "#                 total_accuracy += accuracy\n",
    "#                 total_hamming_accuracy += hamming_accuracy\n",
    "\n",
    "#         avg_train_loss = train_loss / len(train_loader)\n",
    "#         avg_val_loss = val_loss / len(val_loader)\n",
    "#         avg_val_accuracy = total_accuracy / len(val_loader)\n",
    "#         avg_val_hamming_accuracy = total_hamming_accuracy / len(val_loader)\n",
    "\n",
    "#         # Log metrics to WandB\n",
    "#         wandb.log({\n",
    "#             'epoch': epoch + 1,\n",
    "#             'train_loss': avg_train_loss,\n",
    "#             'val_loss': avg_val_loss,\n",
    "#             'val_accuracy': avg_val_accuracy,\n",
    "#             'val_hamming_accuracy': avg_val_hamming_accuracy,\n",
    "#         })\n",
    "    \n",
    "#     # Return final validation accuracy for this configuration\n",
    "#     return avg_val_accuracy\n",
    "\n",
    "# # Run experiments\n",
    "# best_accuracy = 0\n",
    "# best_params = None\n",
    "\n",
    "# for lr in hyperparameter_space['learning_rate']:\n",
    "#     for epoch in hyperparameter_space['epochs']:\n",
    "#         for dropout in hyperparameter_space['dropout_rate']:\n",
    "#             for layers in hyperparameter_space['conv_layers']:\n",
    "#                 for opt in hyperparameter_space['optimizer']:\n",
    "#                     # Define current set of hyperparameters\n",
    "#                     current_params = {\n",
    "#                         'learning_rate': lr,\n",
    "#                         'epochs': epoch,\n",
    "#                         'dropout_rate': dropout,\n",
    "#                         'conv_layers': layers,\n",
    "#                         'optimizer': opt\n",
    "#                     }\n",
    "                    \n",
    "#                     # Log this specific run in WandB\n",
    "#                     with wandb.init(config=current_params, reinit=True):\n",
    "#                         accuracy = train_and_evaluate(current_params)\n",
    "                        \n",
    "#                         if accuracy > best_accuracy:\n",
    "#                             best_accuracy = accuracy\n",
    "#                             best_params = current_params\n",
    "\n",
    "# # Display best hyperparameters and results\n",
    "# print(\"Best Hyperparameters:\", best_params)\n",
    "# print(\"Best Validation Accuracy:\", best_accuracy)\n",
    "\n",
    "# # Load best model, evaluate on test data, and log exact match and hamming accuracy\n",
    "# model.load_state_dict(torch.load('best_model.pth'))\n",
    "# wandb.finish()\n"
   ]
  },
  {
   "cell_type": "markdown",
   "metadata": {},
   "source": [
    "wandb plots link\n",
    "https://api.wandb.ai/links/devansh-kantesaria-iiit-hyderabad/fwi1rjq8"
   ]
  },
  {
   "cell_type": "markdown",
   "metadata": {},
   "source": [
    "Best model\n",
    "\n",
    "LR:0.001\n",
    "dropout_rate:0.2\n",
    "optimizer: Adam\n",
    "epoch:5\n",
    "train loss:1.993\n",
    "val_acc:56.870\n",
    "val_hamming_acc:56.870\n",
    "val_loss:3.5\n"
   ]
  },
  {
   "cell_type": "code",
   "execution_count": null,
   "metadata": {},
   "outputs": [],
   "source": []
  }
 ],
 "metadata": {
  "kernelspec": {
   "display_name": "Python 3",
   "language": "python",
   "name": "python3"
  },
  "language_info": {
   "codemirror_mode": {
    "name": "ipython",
    "version": 3
   },
   "file_extension": ".py",
   "mimetype": "text/x-python",
   "name": "python",
   "nbconvert_exporter": "python",
   "pygments_lexer": "ipython3",
   "version": "3.12.0"
  }
 },
 "nbformat": 4,
 "nbformat_minor": 2
}
